{
 "cells": [
  {
   "cell_type": "markdown",
   "metadata": {},
   "source": [
    "## Importing libraries\n",
    "\n",
    "- import pandas as pd: Imports the Pandas library and assigns it the alias \"pd\" for easier use. Pandas is used for data manipulation and analysis.\n",
    "\n",
    "- import numpy as np: Imports the NumPy library and assigns it the alias \"np.\" NumPy is used for numerical computations, especially with arrays and matrices.\n",
    "\n",
    "- import matplotlib.pyplot as plt: Imports the Matplotlib library's pyplot module and assigns it the alias \"plt.\" Matplotlib is used for creating data visualizations, such as charts and plots.\n",
    "\n",
    "- %matplotlib inline: A Jupyter Notebook magic command that ensures Matplotlib plots are displayed directly in the notebook.\n",
    "\n",
    "- import seaborn as sns: Imports the Seaborn library, which is built on top of Matplotlib and provides enhanced data visualization capabilities, making it easier to create aesthetically pleasing and informative plots."
   ]
  },
  {
   "cell_type": "code",
   "execution_count": 45,
   "metadata": {},
   "outputs": [],
   "source": [
    "import pandas as pd\n",
    "import numpy as np\n",
    "import matplotlib.pyplot as plt\n",
    "%matplotlib inline\n",
    "import seaborn as sns"
   ]
  },
  {
   "cell_type": "markdown",
   "metadata": {},
   "source": [
    "This code reads an Excel file named \"Omnify-Analyst-Intership-Task.xlsx\" into a Pandas DataFrame named \"df.\" pd.read_excel is a Pandas function used to read data from Excel files. The DataFrame will contain the data from the Excel file, making it available for analysis in Python.\n",
    "\n",
    "`df.head()`: This code displays the first few rows (by default, the first 5 rows) of the DataFrame \"df.\" It provides a quick preview of the data to understand its structure and content."
   ]
  },
  {
   "cell_type": "code",
   "execution_count": 46,
   "metadata": {},
   "outputs": [
    {
     "data": {
      "text/html": [
       "<div>\n",
       "<style scoped>\n",
       "    .dataframe tbody tr th:only-of-type {\n",
       "        vertical-align: middle;\n",
       "    }\n",
       "\n",
       "    .dataframe tbody tr th {\n",
       "        vertical-align: top;\n",
       "    }\n",
       "\n",
       "    .dataframe thead th {\n",
       "        text-align: right;\n",
       "    }\n",
       "</style>\n",
       "<table border=\"1\" class=\"dataframe\">\n",
       "  <thead>\n",
       "    <tr style=\"text-align: right;\">\n",
       "      <th></th>\n",
       "      <th>Week</th>\n",
       "      <th>Campaign</th>\n",
       "      <th>Ad group</th>\n",
       "      <th>Keyword type</th>\n",
       "      <th>Search Keyword</th>\n",
       "      <th>Currency</th>\n",
       "      <th>Clicks</th>\n",
       "      <th>Impressions</th>\n",
       "      <th>Cost ($)</th>\n",
       "      <th>Leads</th>\n",
       "      <th>Prospects</th>\n",
       "      <th>Payment ($)</th>\n",
       "      <th>Payment Date</th>\n",
       "      <th>Country</th>\n",
       "    </tr>\n",
       "  </thead>\n",
       "  <tbody>\n",
       "    <tr>\n",
       "      <th>0</th>\n",
       "      <td>2021-01-25</td>\n",
       "      <td>EK_Generic_Swimming</td>\n",
       "      <td>Pool_Reservation_System_Exact</td>\n",
       "      <td>Exact</td>\n",
       "      <td>pool reservation system</td>\n",
       "      <td>USD</td>\n",
       "      <td>2</td>\n",
       "      <td>17</td>\n",
       "      <td>38.33</td>\n",
       "      <td>0</td>\n",
       "      <td>1</td>\n",
       "      <td>$980</td>\n",
       "      <td>2021-02-03</td>\n",
       "      <td>USA</td>\n",
       "    </tr>\n",
       "    <tr>\n",
       "      <th>1</th>\n",
       "      <td>2021-01-25</td>\n",
       "      <td>EK_Generic_Swimming</td>\n",
       "      <td>Pool_Booking_App_Exact</td>\n",
       "      <td>Exact</td>\n",
       "      <td>pool booking app</td>\n",
       "      <td>USD</td>\n",
       "      <td>1</td>\n",
       "      <td>13</td>\n",
       "      <td>11.70</td>\n",
       "      <td>0</td>\n",
       "      <td>0</td>\n",
       "      <td>NaN</td>\n",
       "      <td>NaT</td>\n",
       "      <td>USA</td>\n",
       "    </tr>\n",
       "    <tr>\n",
       "      <th>2</th>\n",
       "      <td>2021-01-25</td>\n",
       "      <td>EK_Generic_Quad-Tok_Yoga</td>\n",
       "      <td>Yoga_Studio_Booking_Software_Broad</td>\n",
       "      <td>Broad</td>\n",
       "      <td>yoga studio booking software</td>\n",
       "      <td>USD</td>\n",
       "      <td>4</td>\n",
       "      <td>154</td>\n",
       "      <td>45.13</td>\n",
       "      <td>0</td>\n",
       "      <td>1</td>\n",
       "      <td>$1,188</td>\n",
       "      <td>2021-03-13</td>\n",
       "      <td>USA</td>\n",
       "    </tr>\n",
       "    <tr>\n",
       "      <th>3</th>\n",
       "      <td>2021-01-25</td>\n",
       "      <td>EK_Generic_Swimming</td>\n",
       "      <td>Pool_Scheduling_Software_Phrase</td>\n",
       "      <td>Phrase</td>\n",
       "      <td>pool scheduling software</td>\n",
       "      <td>USD</td>\n",
       "      <td>2</td>\n",
       "      <td>8</td>\n",
       "      <td>23.91</td>\n",
       "      <td>0</td>\n",
       "      <td>0</td>\n",
       "      <td>NaN</td>\n",
       "      <td>NaT</td>\n",
       "      <td>USA</td>\n",
       "    </tr>\n",
       "    <tr>\n",
       "      <th>4</th>\n",
       "      <td>2021-01-25</td>\n",
       "      <td>EK_Generic_Swimming_UK</td>\n",
       "      <td>Pool_Reservation_Software_Broad</td>\n",
       "      <td>Broad</td>\n",
       "      <td>pool reservation software</td>\n",
       "      <td>USD</td>\n",
       "      <td>2</td>\n",
       "      <td>13</td>\n",
       "      <td>4.89</td>\n",
       "      <td>0</td>\n",
       "      <td>0</td>\n",
       "      <td>NaN</td>\n",
       "      <td>NaT</td>\n",
       "      <td>USA</td>\n",
       "    </tr>\n",
       "  </tbody>\n",
       "</table>\n",
       "</div>"
      ],
      "text/plain": [
       "        Week                  Campaign                            Ad group  \\\n",
       "0 2021-01-25       EK_Generic_Swimming       Pool_Reservation_System_Exact   \n",
       "1 2021-01-25       EK_Generic_Swimming              Pool_Booking_App_Exact   \n",
       "2 2021-01-25  EK_Generic_Quad-Tok_Yoga  Yoga_Studio_Booking_Software_Broad   \n",
       "3 2021-01-25       EK_Generic_Swimming     Pool_Scheduling_Software_Phrase   \n",
       "4 2021-01-25    EK_Generic_Swimming_UK     Pool_Reservation_Software_Broad   \n",
       "\n",
       "  Keyword type                Search Keyword Currency  Clicks  Impressions  \\\n",
       "0        Exact       pool reservation system      USD       2           17   \n",
       "1        Exact              pool booking app      USD       1           13   \n",
       "2        Broad  yoga studio booking software      USD       4          154   \n",
       "3       Phrase      pool scheduling software      USD       2            8   \n",
       "4        Broad     pool reservation software      USD       2           13   \n",
       "\n",
       "   Cost ($)  Leads  Prospects Payment ($) Payment Date Country  \n",
       "0     38.33      0          1        $980   2021-02-03     USA  \n",
       "1     11.70      0          0         NaN          NaT     USA  \n",
       "2     45.13      0          1      $1,188   2021-03-13     USA  \n",
       "3     23.91      0          0         NaN          NaT     USA  \n",
       "4      4.89      0          0         NaN          NaT     USA  "
      ]
     },
     "execution_count": 46,
     "metadata": {},
     "output_type": "execute_result"
    }
   ],
   "source": [
    "df = pd.read_excel(\"Omnify-Analyst-Intership-Task.xlsx\")\n",
    "df.head()"
   ]
  },
  {
   "cell_type": "markdown",
   "metadata": {},
   "source": [
    "`df.describe()`:\n",
    "This code generates a statistical summary of the Pandas DataFrame \"df.\" It provides various statistical measures for each numerical column in the DataFrame, including count, mean, standard deviation, minimum, 25th percentile (Q1), median (50th percentile or Q2), 75th percentile (Q3), and maximum. This summary is helpful for understanding the central tendency, spread, and distribution of numerical data in the DataFrame."
   ]
  },
  {
   "cell_type": "code",
   "execution_count": 47,
   "metadata": {},
   "outputs": [
    {
     "data": {
      "text/html": [
       "<div>\n",
       "<style scoped>\n",
       "    .dataframe tbody tr th:only-of-type {\n",
       "        vertical-align: middle;\n",
       "    }\n",
       "\n",
       "    .dataframe tbody tr th {\n",
       "        vertical-align: top;\n",
       "    }\n",
       "\n",
       "    .dataframe thead th {\n",
       "        text-align: right;\n",
       "    }\n",
       "</style>\n",
       "<table border=\"1\" class=\"dataframe\">\n",
       "  <thead>\n",
       "    <tr style=\"text-align: right;\">\n",
       "      <th></th>\n",
       "      <th>Clicks</th>\n",
       "      <th>Impressions</th>\n",
       "      <th>Cost ($)</th>\n",
       "      <th>Leads</th>\n",
       "      <th>Prospects</th>\n",
       "    </tr>\n",
       "  </thead>\n",
       "  <tbody>\n",
       "    <tr>\n",
       "      <th>count</th>\n",
       "      <td>418.000000</td>\n",
       "      <td>418.000000</td>\n",
       "      <td>418.000000</td>\n",
       "      <td>418.000000</td>\n",
       "      <td>418.000000</td>\n",
       "    </tr>\n",
       "    <tr>\n",
       "      <th>mean</th>\n",
       "      <td>0.925837</td>\n",
       "      <td>16.662679</td>\n",
       "      <td>6.671483</td>\n",
       "      <td>0.028708</td>\n",
       "      <td>0.050239</td>\n",
       "    </tr>\n",
       "    <tr>\n",
       "      <th>std</th>\n",
       "      <td>1.900840</td>\n",
       "      <td>46.743636</td>\n",
       "      <td>14.253019</td>\n",
       "      <td>0.167185</td>\n",
       "      <td>0.285312</td>\n",
       "    </tr>\n",
       "    <tr>\n",
       "      <th>min</th>\n",
       "      <td>0.000000</td>\n",
       "      <td>0.000000</td>\n",
       "      <td>0.000000</td>\n",
       "      <td>0.000000</td>\n",
       "      <td>0.000000</td>\n",
       "    </tr>\n",
       "    <tr>\n",
       "      <th>25%</th>\n",
       "      <td>0.000000</td>\n",
       "      <td>1.000000</td>\n",
       "      <td>0.000000</td>\n",
       "      <td>0.000000</td>\n",
       "      <td>0.000000</td>\n",
       "    </tr>\n",
       "    <tr>\n",
       "      <th>50%</th>\n",
       "      <td>0.000000</td>\n",
       "      <td>3.000000</td>\n",
       "      <td>0.000000</td>\n",
       "      <td>0.000000</td>\n",
       "      <td>0.000000</td>\n",
       "    </tr>\n",
       "    <tr>\n",
       "      <th>75%</th>\n",
       "      <td>1.000000</td>\n",
       "      <td>12.000000</td>\n",
       "      <td>6.800000</td>\n",
       "      <td>0.000000</td>\n",
       "      <td>0.000000</td>\n",
       "    </tr>\n",
       "    <tr>\n",
       "      <th>max</th>\n",
       "      <td>12.000000</td>\n",
       "      <td>357.000000</td>\n",
       "      <td>92.090000</td>\n",
       "      <td>1.000000</td>\n",
       "      <td>3.000000</td>\n",
       "    </tr>\n",
       "  </tbody>\n",
       "</table>\n",
       "</div>"
      ],
      "text/plain": [
       "           Clicks  Impressions    Cost ($)       Leads   Prospects\n",
       "count  418.000000   418.000000  418.000000  418.000000  418.000000\n",
       "mean     0.925837    16.662679    6.671483    0.028708    0.050239\n",
       "std      1.900840    46.743636   14.253019    0.167185    0.285312\n",
       "min      0.000000     0.000000    0.000000    0.000000    0.000000\n",
       "25%      0.000000     1.000000    0.000000    0.000000    0.000000\n",
       "50%      0.000000     3.000000    0.000000    0.000000    0.000000\n",
       "75%      1.000000    12.000000    6.800000    0.000000    0.000000\n",
       "max     12.000000   357.000000   92.090000    1.000000    3.000000"
      ]
     },
     "execution_count": 47,
     "metadata": {},
     "output_type": "execute_result"
    }
   ],
   "source": [
    "df.describe()"
   ]
  },
  {
   "cell_type": "markdown",
   "metadata": {},
   "source": [
    "`df[\"Cost ($)\"]`: This code selects the column named \"Cost \" from the Pandas DataFrame df. It's assuming that there is a column in the DataFrame with the label Cost ($), and it's extracting that specific column.\n",
    "\n",
    "`.var()`: This is a Pandas function that is applied to the selected column. It calculates and returns the variance of the values in the \"Cost ($)\" column. Variance is a measure of how spread out the values are from the mean (average). It quantifies the degree of variability in the data."
   ]
  },
  {
   "cell_type": "code",
   "execution_count": 48,
   "metadata": {},
   "outputs": [
    {
     "data": {
      "text/plain": [
       "203.14854215919127"
      ]
     },
     "execution_count": 48,
     "metadata": {},
     "output_type": "execute_result"
    }
   ],
   "source": [
    "df[\"Cost ($)\"].var()"
   ]
  },
  {
   "cell_type": "markdown",
   "metadata": {},
   "source": [
    "`df.skew()`: This code calculates and returns the skewness of each numerical column in the Pandas DataFrame \"df.\" Skewness is a statistical measure that quantifies the asymmetry of the distribution of values in a dataset.\n",
    "\n",
    "- If the skewness is close to 0, it indicates a relatively symmetrical distribution.\n",
    "- If the skewness is negative, it suggests a left-skewed (negatively skewed) distribution, meaning that the tail on the left side is longer or fatter than the right side.\n",
    "- If the skewness is positive, it suggests a right-skewed (positively skewed) distribution, meaning that the tail on the right side is longer or fatter than the left side.\n",
    "This function helps you assess the shape and symmetry of the data's distribution for each numerical column in the DataFrame."
   ]
  },
  {
   "cell_type": "code",
   "execution_count": 49,
   "metadata": {},
   "outputs": [
    {
     "name": "stderr",
     "output_type": "stream",
     "text": [
      "C:\\Users\\Acer\\AppData\\Local\\Temp\\ipykernel_10308\\1665899112.py:1: FutureWarning: Dropping of nuisance columns in DataFrame reductions (with 'numeric_only=None') is deprecated; in a future version this will raise TypeError.  Select only valid columns before calling the reduction.\n",
      "  df.skew()\n"
     ]
    },
    {
     "data": {
      "text/plain": [
       "Clicks         3.222262\n",
       "Impressions    4.793692\n",
       "Cost ($)       3.250091\n",
       "Leads          5.665072\n",
       "Prospects      7.244948\n",
       "dtype: float64"
      ]
     },
     "execution_count": 49,
     "metadata": {},
     "output_type": "execute_result"
    }
   ],
   "source": [
    "df.skew()"
   ]
  },
  {
   "cell_type": "markdown",
   "metadata": {},
   "source": [
    "- `df.isnull()`: This code creates a DataFrame of the same shape as \"df\" where each cell is either True or False, depending on whether the corresponding cell in \"df\" is null (missing) or not.\n",
    "\n",
    "- `.sum()`: This Pandas function is applied to the DataFrame created by `df.isnull()`. It calculates the sum of True values (which represent missing data) for each column in \"df.\" The result is a Series that shows the count of missing values in each column of the DataFrame. This is a helpful way to assess the completeness of your data and identify which columns have missing values."
   ]
  },
  {
   "cell_type": "code",
   "execution_count": 50,
   "metadata": {},
   "outputs": [
    {
     "data": {
      "text/plain": [
       "Week                0\n",
       "Campaign            0\n",
       "Ad group            0\n",
       "Keyword type        0\n",
       "Search Keyword      6\n",
       "Currency            0\n",
       "Clicks              0\n",
       "Impressions         0\n",
       "Cost ($)            0\n",
       "Leads               0\n",
       "Prospects           0\n",
       "Payment ($)       410\n",
       "Payment Date      410\n",
       "Country             0\n",
       "dtype: int64"
      ]
     },
     "execution_count": 50,
     "metadata": {},
     "output_type": "execute_result"
    }
   ],
   "source": [
    "df.isnull().sum()"
   ]
  },
  {
   "cell_type": "markdown",
   "metadata": {},
   "source": [
    "- `df[\"Payment ($)\"]`: This code selects the column named \"Payment ()\" from the Pandas DataFrame \"df.\" It's assuming that there is a column in the DataFrame with the label \"Payment ($),\" and it's extracting that specific column.\n",
    "\n",
    "- `.values`: This attribute is applied to the selected column. It returns the values of the \"Payment ($)\" column as a NumPy array. This can be useful if you want to work with the numerical data in this specific column separately, as a NumPy array provides efficient methods for numerical operations and computations."
   ]
  },
  {
   "cell_type": "code",
   "execution_count": 51,
   "metadata": {},
   "outputs": [
    {
     "data": {
      "text/plain": [
       "array(['$980', nan, '$1,188', nan, nan, nan, nan, nan, nan, nan, nan, nan,\n",
       "       nan, nan, nan, nan, nan, nan, nan, nan, nan, nan, nan, nan, nan,\n",
       "       nan, nan, nan, nan, nan, nan, nan, nan, nan, nan, nan, nan, nan,\n",
       "       nan, nan, nan, nan, nan, nan, nan, nan, nan, nan, nan, nan, nan,\n",
       "       nan, nan, nan, nan, nan, nan, '$980', nan, nan, nan, nan, nan, nan,\n",
       "       nan, nan, nan, nan, nan, nan, nan, nan, nan, nan, nan, nan, nan,\n",
       "       nan, nan, nan, nan, nan, nan, '$1,788', nan, nan, nan, nan, nan,\n",
       "       nan, nan, nan, nan, nan, nan, nan, nan, nan, nan, nan, nan, nan,\n",
       "       nan, nan, nan, nan, nan, nan, nan, nan, nan, nan, nan, nan, nan,\n",
       "       nan, nan, nan, nan, nan, nan, nan, nan, nan, nan, nan, nan, nan,\n",
       "       nan, nan, nan, nan, nan, nan, nan, nan, nan, nan, nan, nan, nan,\n",
       "       nan, nan, nan, nan, nan, nan, nan, '$980', nan, nan, nan, nan, nan,\n",
       "       nan, nan, nan, nan, nan, nan, nan, nan, nan, nan, nan, nan, nan,\n",
       "       nan, nan, nan, nan, nan, nan, nan, nan, nan, nan, nan, nan, nan,\n",
       "       nan, nan, nan, nan, nan, nan, nan, nan, nan, nan, nan, nan, nan,\n",
       "       nan, nan, nan, nan, nan, nan, nan, nan, nan, nan, nan, nan, nan,\n",
       "       nan, nan, nan, nan, nan, nan, nan, nan, nan, nan, nan, nan, nan,\n",
       "       nan, nan, nan, nan, nan, nan, nan, nan, nan, nan, nan, nan, nan,\n",
       "       nan, nan, nan, '$2,388', nan, nan, nan, nan, nan, nan, nan, nan,\n",
       "       nan, nan, nan, nan, nan, nan, nan, nan, nan, nan, nan, nan, nan,\n",
       "       nan, nan, nan, nan, nan, nan, nan, nan, nan, nan, nan, nan, nan,\n",
       "       nan, nan, nan, nan, nan, nan, nan, nan, nan, nan, nan, nan, nan,\n",
       "       nan, nan, nan, nan, nan, nan, nan, nan, nan, nan, nan, nan, nan,\n",
       "       nan, nan, nan, nan, nan, nan, nan, nan, nan, nan, nan, nan, nan,\n",
       "       nan, nan, nan, nan, nan, nan, '$2,388', nan, nan, nan, nan, nan,\n",
       "       nan, nan, nan, nan, nan, nan, nan, nan, nan, nan, nan, nan, nan,\n",
       "       nan, nan, nan, nan, nan, nan, nan, nan, nan, nan, nan, nan, nan,\n",
       "       nan, nan, nan, nan, nan, nan, nan, nan, nan, nan, nan, nan, nan,\n",
       "       nan, nan, nan, nan, nan, nan, nan, nan, nan, nan, nan, nan, nan,\n",
       "       nan, nan, nan, nan, nan, nan, nan, nan, nan, nan, nan, nan, nan,\n",
       "       nan, nan, nan, '$1,188', nan, nan, nan, nan, nan, nan, nan, nan,\n",
       "       nan, nan, nan, nan, nan, nan, nan, nan, nan, nan, nan, nan, nan,\n",
       "       nan, nan, nan, nan, nan, nan, nan], dtype=object)"
      ]
     },
     "execution_count": 51,
     "metadata": {},
     "output_type": "execute_result"
    }
   ],
   "source": [
    "df[\"Payment ($)\"].values"
   ]
  },
  {
   "cell_type": "markdown",
   "metadata": {},
   "source": [
    "- `df[\"Payment ($)\"]`: This code selects the column named \"Payment ()\" from the Pandas DataFrame \"df.\" It's assuming that there is a column in the DataFrame with the label \"Payment ($),\" and it's referencing that specific column for modification.\n",
    "\n",
    "- `.str.replace('', '')`: This part of the code is applied to the \"Payment ()\" column. It uses the `.str` accessor to treat the column as a string and performs a replacement operation. Specifically, it replaces the dollar sign ('$') with an empty string (''). This is often done to remove currency symbols from numeric values, making them suitable for conversion to numeric data types.\n",
    "\n",
    "- `pd.to_numeric(...)`: This is a Pandas function that attempts to convert the values in the provided Series (in this case, the modified \"Payment ()\" column) to numeric data types. The `errors='coerce'` parameter is used, which means that if any conversion errors occur, the problematic values will be replaced with NaN (Not-a-Number). This is useful for handling cases where the data may contain non-numeric characters, such as the dollar sign ('$'), and you want to convert the numeric portion into a usable format while handling errors gracefully.\n",
    "\n",
    "- `df[\"Payment ($)\"] = ...`: Finally, the modified \"Payment ($)\" column is assigned back to the DataFrame \"df,\" effectively updating the column with the cleaned and numeric values."
   ]
  },
  {
   "cell_type": "code",
   "execution_count": 52,
   "metadata": {},
   "outputs": [
    {
     "name": "stderr",
     "output_type": "stream",
     "text": [
      "C:\\Users\\Acer\\AppData\\Local\\Temp\\ipykernel_10308\\2089357536.py:1: FutureWarning: The default value of regex will change from True to False in a future version. In addition, single character regular expressions will *not* be treated as literal strings when regex=True.\n",
      "  df[\"Payment ($)\"] = pd.to_numeric(df[\"Payment ($)\"].str.replace('$', ''), errors='coerce')\n"
     ]
    }
   ],
   "source": [
    "df[\"Payment ($)\"] = pd.to_numeric(df[\"Payment ($)\"].str.replace('$', ''), errors='coerce')"
   ]
  },
  {
   "cell_type": "markdown",
   "metadata": {},
   "source": [
    "- `df[\"Payment ($)\"]`: This code selects the column named \"Payment ($)\" from the Pandas DataFrame \"df.\" It's assuming that there is a column in the DataFrame with the label \"Payment ($),\" and it's referencing that specific column.\n",
    "\n",
    "- `.fillna(0, inplace=True)`: This code is applied to the selected \"Payment ($)\" column. It uses the `.fillna()` method to replace any missing values (NaN) in the column with the value 0. The `inplace=True` parameter means that the modification is done directly on the DataFrame \"df,\" so the original DataFrame is updated with these changes.\n",
    "\n",
    "- `df[\"Payment ($)\"]`: After filling in the missing values with 0, this line of code again selects and displays the \"Payment ($)\" column, showing the modified column with missing values replaced by zeros."
   ]
  },
  {
   "cell_type": "code",
   "execution_count": 53,
   "metadata": {},
   "outputs": [
    {
     "data": {
      "text/plain": [
       "0      980.0\n",
       "1        0.0\n",
       "2        0.0\n",
       "3        0.0\n",
       "4        0.0\n",
       "       ...  \n",
       "413      0.0\n",
       "414      0.0\n",
       "415      0.0\n",
       "416      0.0\n",
       "417      0.0\n",
       "Name: Payment ($), Length: 418, dtype: float64"
      ]
     },
     "execution_count": 53,
     "metadata": {},
     "output_type": "execute_result"
    }
   ],
   "source": [
    "df[\"Payment ($)\"].fillna(0, inplace=True)\n",
    "df[\"Payment ($)\"]"
   ]
  },
  {
   "cell_type": "markdown",
   "metadata": {},
   "source": [
    "- `df[\"Search Keyword\"]`: This code selects the column named \"Search Keyword\" from the Pandas DataFrame \"df.\" It's assuming that there is a column in the DataFrame with the label \"Search Keyword,\" and it's referencing that specific column.\n",
    "\n",
    "- `.value_counts()`: This Pandas method is applied to the selected \"Search Keyword\" column. It counts the occurrences of unique values within the column and returns the result as a Series. In this context, it would provide a count of how many times each unique search keyword appears in the dataset. This can be useful for understanding the distribution of search terms or keywords within your dataset."
   ]
  },
  {
   "cell_type": "code",
   "execution_count": 54,
   "metadata": {},
   "outputs": [
    {
     "data": {
      "text/plain": [
       "reservation management system         90\n",
       "pool reservation software             63\n",
       "booking management software           50\n",
       "yoga studio booking software          39\n",
       "swimming pool booking system          21\n",
       "pool scheduling software              20\n",
       "swimming pool reservation system      17\n",
       "pool reservation system               16\n",
       "yoga studio management software       15\n",
       "pilates studio software               15\n",
       "yoga studio app                       13\n",
       "yoga studio software                  12\n",
       "pilates studio management software    11\n",
       "pool booking app                      11\n",
       "pilates studio booking software        8\n",
       "pilates booking system                 6\n",
       "yoga studio scheduling software        2\n",
       "=+pool +reservation software           1\n",
       "pilates management software            1\n",
       "pilates studio software manager        1\n",
       "Name: Search Keyword, dtype: int64"
      ]
     },
     "execution_count": 54,
     "metadata": {},
     "output_type": "execute_result"
    }
   ],
   "source": [
    "df[\"Search Keyword\"].value_counts()"
   ]
  },
  {
   "cell_type": "markdown",
   "metadata": {},
   "source": [
    "\n",
    "- `df[\"Search Keyword\"]`: This code selects the column named \"Search Keyword\" from the Pandas DataFrame \"df.\" It's assuming that there is a column in the DataFrame with the label \"Search Keyword,\" and it's referencing that specific column for modification.\n",
    "\n",
    "- `.fillna(\"pool reservation software\", inplace=True)`: This line of code uses the `.fillna()` method to fill in missing values (NaN) in the \"Search Keyword\" column with the specified value, which is \"pool reservation software\" in this case. The `inplace=True` parameter means that the modification is done directly on the DataFrame \"df,\" so the original DataFrame is updated with these changes. This operation is useful when you want to replace missing values with a default or specific value to make the data more consistent or suitable for analysis."
   ]
  },
  {
   "cell_type": "code",
   "execution_count": 55,
   "metadata": {},
   "outputs": [
    {
     "data": {
      "text/plain": [
       "0"
      ]
     },
     "execution_count": 55,
     "metadata": {},
     "output_type": "execute_result"
    }
   ],
   "source": [
    "df[\"Search Keyword\"].fillna(\"pool reservation software\", inplace=True)\n",
    "df[\"Search Keyword\"].isna().sum()"
   ]
  },
  {
   "cell_type": "markdown",
   "metadata": {},
   "source": [
    "- `.values`: This attribute is applied to the \"Payment Date\" column. It returns the values of the \"Payment Date\" column as a NumPy array. This can be useful if you want to work with the date values in this specific column separately, as a NumPy array provides efficient methods for date and time operations and computations."
   ]
  },
  {
   "cell_type": "code",
   "execution_count": 56,
   "metadata": {},
   "outputs": [
    {
     "data": {
      "text/plain": [
       "array(['2021-02-03T00:00:00.000000000',                           'NaT',\n",
       "       '2021-03-13T00:00:00.000000000',                           'NaT',\n",
       "                                 'NaT',                           'NaT',\n",
       "                                 'NaT',                           'NaT',\n",
       "                                 'NaT',                           'NaT',\n",
       "                                 'NaT',                           'NaT',\n",
       "                                 'NaT',                           'NaT',\n",
       "                                 'NaT',                           'NaT',\n",
       "                                 'NaT',                           'NaT',\n",
       "                                 'NaT',                           'NaT',\n",
       "                                 'NaT',                           'NaT',\n",
       "                                 'NaT',                           'NaT',\n",
       "                                 'NaT',                           'NaT',\n",
       "                                 'NaT',                           'NaT',\n",
       "                                 'NaT',                           'NaT',\n",
       "                                 'NaT',                           'NaT',\n",
       "                                 'NaT',                           'NaT',\n",
       "                                 'NaT',                           'NaT',\n",
       "                                 'NaT',                           'NaT',\n",
       "                                 'NaT',                           'NaT',\n",
       "                                 'NaT',                           'NaT',\n",
       "                                 'NaT',                           'NaT',\n",
       "                                 'NaT',                           'NaT',\n",
       "                                 'NaT',                           'NaT',\n",
       "                                 'NaT',                           'NaT',\n",
       "                                 'NaT',                           'NaT',\n",
       "                                 'NaT',                           'NaT',\n",
       "                                 'NaT',                           'NaT',\n",
       "                                 'NaT', '2021-02-15T00:00:00.000000000',\n",
       "                                 'NaT',                           'NaT',\n",
       "                                 'NaT',                           'NaT',\n",
       "                                 'NaT',                           'NaT',\n",
       "                                 'NaT',                           'NaT',\n",
       "                                 'NaT',                           'NaT',\n",
       "                                 'NaT',                           'NaT',\n",
       "                                 'NaT',                           'NaT',\n",
       "                                 'NaT',                           'NaT',\n",
       "                                 'NaT',                           'NaT',\n",
       "                                 'NaT',                           'NaT',\n",
       "                                 'NaT',                           'NaT',\n",
       "                                 'NaT',                           'NaT',\n",
       "                                 'NaT', '2021-03-01T00:00:00.000000000',\n",
       "                                 'NaT',                           'NaT',\n",
       "                                 'NaT',                           'NaT',\n",
       "                                 'NaT',                           'NaT',\n",
       "                                 'NaT',                           'NaT',\n",
       "                                 'NaT',                           'NaT',\n",
       "                                 'NaT',                           'NaT',\n",
       "                                 'NaT',                           'NaT',\n",
       "                                 'NaT',                           'NaT',\n",
       "                                 'NaT',                           'NaT',\n",
       "                                 'NaT',                           'NaT',\n",
       "                                 'NaT',                           'NaT',\n",
       "                                 'NaT',                           'NaT',\n",
       "                                 'NaT',                           'NaT',\n",
       "                                 'NaT',                           'NaT',\n",
       "                                 'NaT',                           'NaT',\n",
       "                                 'NaT',                           'NaT',\n",
       "                                 'NaT',                           'NaT',\n",
       "                                 'NaT',                           'NaT',\n",
       "                                 'NaT',                           'NaT',\n",
       "                                 'NaT',                           'NaT',\n",
       "                                 'NaT',                           'NaT',\n",
       "                                 'NaT',                           'NaT',\n",
       "                                 'NaT',                           'NaT',\n",
       "                                 'NaT',                           'NaT',\n",
       "                                 'NaT',                           'NaT',\n",
       "                                 'NaT',                           'NaT',\n",
       "                                 'NaT',                           'NaT',\n",
       "                                 'NaT',                           'NaT',\n",
       "                                 'NaT',                           'NaT',\n",
       "                                 'NaT',                           'NaT',\n",
       "                                 'NaT',                           'NaT',\n",
       "                                 'NaT',                           'NaT',\n",
       "       '2021-04-29T00:00:00.000000000',                           'NaT',\n",
       "                                 'NaT',                           'NaT',\n",
       "                                 'NaT',                           'NaT',\n",
       "                                 'NaT',                           'NaT',\n",
       "                                 'NaT',                           'NaT',\n",
       "                                 'NaT',                           'NaT',\n",
       "                                 'NaT',                           'NaT',\n",
       "                                 'NaT',                           'NaT',\n",
       "                                 'NaT',                           'NaT',\n",
       "                                 'NaT',                           'NaT',\n",
       "                                 'NaT',                           'NaT',\n",
       "                                 'NaT',                           'NaT',\n",
       "                                 'NaT',                           'NaT',\n",
       "                                 'NaT',                           'NaT',\n",
       "                                 'NaT',                           'NaT',\n",
       "                                 'NaT',                           'NaT',\n",
       "                                 'NaT',                           'NaT',\n",
       "                                 'NaT',                           'NaT',\n",
       "                                 'NaT',                           'NaT',\n",
       "                                 'NaT',                           'NaT',\n",
       "                                 'NaT',                           'NaT',\n",
       "                                 'NaT',                           'NaT',\n",
       "                                 'NaT',                           'NaT',\n",
       "                                 'NaT',                           'NaT',\n",
       "                                 'NaT',                           'NaT',\n",
       "                                 'NaT',                           'NaT',\n",
       "                                 'NaT',                           'NaT',\n",
       "                                 'NaT',                           'NaT',\n",
       "                                 'NaT',                           'NaT',\n",
       "                                 'NaT',                           'NaT',\n",
       "                                 'NaT',                           'NaT',\n",
       "                                 'NaT',                           'NaT',\n",
       "                                 'NaT',                           'NaT',\n",
       "                                 'NaT',                           'NaT',\n",
       "                                 'NaT',                           'NaT',\n",
       "                                 'NaT',                           'NaT',\n",
       "                                 'NaT',                           'NaT',\n",
       "                                 'NaT',                           'NaT',\n",
       "                                 'NaT',                           'NaT',\n",
       "                                 'NaT',                           'NaT',\n",
       "                                 'NaT',                           'NaT',\n",
       "                                 'NaT',                           'NaT',\n",
       "                                 'NaT',                           'NaT',\n",
       "                                 'NaT', '2021-04-03T00:00:00.000000000',\n",
       "                                 'NaT',                           'NaT',\n",
       "                                 'NaT',                           'NaT',\n",
       "                                 'NaT',                           'NaT',\n",
       "                                 'NaT',                           'NaT',\n",
       "                                 'NaT',                           'NaT',\n",
       "                                 'NaT',                           'NaT',\n",
       "                                 'NaT',                           'NaT',\n",
       "                                 'NaT',                           'NaT',\n",
       "                                 'NaT',                           'NaT',\n",
       "                                 'NaT',                           'NaT',\n",
       "                                 'NaT',                           'NaT',\n",
       "                                 'NaT',                           'NaT',\n",
       "                                 'NaT',                           'NaT',\n",
       "                                 'NaT',                           'NaT',\n",
       "                                 'NaT',                           'NaT',\n",
       "                                 'NaT',                           'NaT',\n",
       "                                 'NaT',                           'NaT',\n",
       "                                 'NaT',                           'NaT',\n",
       "                                 'NaT',                           'NaT',\n",
       "                                 'NaT',                           'NaT',\n",
       "                                 'NaT',                           'NaT',\n",
       "                                 'NaT',                           'NaT',\n",
       "                                 'NaT',                           'NaT',\n",
       "                                 'NaT',                           'NaT',\n",
       "                                 'NaT',                           'NaT',\n",
       "                                 'NaT',                           'NaT',\n",
       "                                 'NaT',                           'NaT',\n",
       "                                 'NaT',                           'NaT',\n",
       "                                 'NaT',                           'NaT',\n",
       "                                 'NaT',                           'NaT',\n",
       "                                 'NaT',                           'NaT',\n",
       "                                 'NaT',                           'NaT',\n",
       "                                 'NaT',                           'NaT',\n",
       "                                 'NaT',                           'NaT',\n",
       "                                 'NaT',                           'NaT',\n",
       "                                 'NaT',                           'NaT',\n",
       "                                 'NaT',                           'NaT',\n",
       "                                 'NaT',                           'NaT',\n",
       "                                 'NaT',                           'NaT',\n",
       "                                 'NaT', '2021-05-01T00:00:00.000000000',\n",
       "                                 'NaT',                           'NaT',\n",
       "                                 'NaT',                           'NaT',\n",
       "                                 'NaT',                           'NaT',\n",
       "                                 'NaT',                           'NaT',\n",
       "                                 'NaT',                           'NaT',\n",
       "                                 'NaT',                           'NaT',\n",
       "                                 'NaT',                           'NaT',\n",
       "                                 'NaT',                           'NaT',\n",
       "                                 'NaT',                           'NaT',\n",
       "                                 'NaT',                           'NaT',\n",
       "                                 'NaT',                           'NaT',\n",
       "                                 'NaT',                           'NaT',\n",
       "                                 'NaT',                           'NaT',\n",
       "                                 'NaT',                           'NaT',\n",
       "                                 'NaT',                           'NaT',\n",
       "                                 'NaT',                           'NaT',\n",
       "                                 'NaT',                           'NaT',\n",
       "                                 'NaT',                           'NaT',\n",
       "                                 'NaT',                           'NaT',\n",
       "                                 'NaT',                           'NaT',\n",
       "                                 'NaT',                           'NaT',\n",
       "                                 'NaT',                           'NaT',\n",
       "                                 'NaT',                           'NaT',\n",
       "                                 'NaT',                           'NaT',\n",
       "                                 'NaT',                           'NaT',\n",
       "                                 'NaT',                           'NaT',\n",
       "                                 'NaT',                           'NaT',\n",
       "                                 'NaT',                           'NaT',\n",
       "                                 'NaT',                           'NaT',\n",
       "                                 'NaT',                           'NaT',\n",
       "                                 'NaT',                           'NaT',\n",
       "                                 'NaT',                           'NaT',\n",
       "                                 'NaT',                           'NaT',\n",
       "                                 'NaT',                           'NaT',\n",
       "                                 'NaT',                           'NaT',\n",
       "                                 'NaT',                           'NaT',\n",
       "                                 'NaT', '2021-05-04T00:00:00.000000000',\n",
       "                                 'NaT',                           'NaT',\n",
       "                                 'NaT',                           'NaT',\n",
       "                                 'NaT',                           'NaT',\n",
       "                                 'NaT',                           'NaT',\n",
       "                                 'NaT',                           'NaT',\n",
       "                                 'NaT',                           'NaT',\n",
       "                                 'NaT',                           'NaT',\n",
       "                                 'NaT',                           'NaT',\n",
       "                                 'NaT',                           'NaT',\n",
       "                                 'NaT',                           'NaT',\n",
       "                                 'NaT',                           'NaT',\n",
       "                                 'NaT',                           'NaT',\n",
       "                                 'NaT',                           'NaT',\n",
       "                                 'NaT',                           'NaT'],\n",
       "      dtype='datetime64[ns]')"
      ]
     },
     "execution_count": 56,
     "metadata": {},
     "output_type": "execute_result"
    }
   ],
   "source": [
    "df[\"Payment Date\"].values"
   ]
  },
  {
   "cell_type": "code",
   "execution_count": 57,
   "metadata": {},
   "outputs": [],
   "source": [
    "df[\"Payment Date\"].fillna(0, inplace=True)"
   ]
  },
  {
   "cell_type": "code",
   "execution_count": 58,
   "metadata": {},
   "outputs": [
    {
     "data": {
      "text/plain": [
       "0      2021-02-03 00:00:00\n",
       "1                        0\n",
       "2      2021-03-13 00:00:00\n",
       "3                        0\n",
       "4                        0\n",
       "              ...         \n",
       "413                      0\n",
       "414                      0\n",
       "415                      0\n",
       "416                      0\n",
       "417                      0\n",
       "Name: Payment Date, Length: 418, dtype: object"
      ]
     },
     "execution_count": 58,
     "metadata": {},
     "output_type": "execute_result"
    }
   ],
   "source": [
    "df[\"Payment Date\"]"
   ]
  },
  {
   "cell_type": "markdown",
   "metadata": {},
   "source": [
    "- `df.kurtosis()`: This code calculates and returns the kurtosis of each numerical column in the Pandas DataFrame \"df.\" Kurtosis is a statistical measure that quantifies the shape of the distribution of values in a dataset. \n",
    "\n",
    "  - Positive kurtosis (greater than 3) indicates a distribution with heavier tails and a more peaked central region (leptokurtic).\n",
    "  - Negative kurtosis (less than 3) indicates a distribution with lighter tails and a flatter central region (platykurtic).\n",
    "  - A kurtosis value of 3 is often considered normal or mesokurtic, representing a distribution similar to a standard normal distribution.\n",
    "\n",
    "  High kurtosis can indicate more extreme values or outliers in the dataset, while low kurtosis suggests a less extreme distribution. This function helps you assess the shape and tails of the data's distribution for each numerical column in the DataFrame."
   ]
  },
  {
   "cell_type": "code",
   "execution_count": 59,
   "metadata": {},
   "outputs": [
    {
     "name": "stderr",
     "output_type": "stream",
     "text": [
      "C:\\Users\\Acer\\AppData\\Local\\Temp\\ipykernel_10308\\615572439.py:1: FutureWarning: Dropping of nuisance columns in DataFrame reductions (with 'numeric_only=None') is deprecated; in a future version this will raise TypeError.  Select only valid columns before calling the reduction.\n",
      "  df.kurtosis()\n"
     ]
    },
    {
     "data": {
      "text/plain": [
       "Clicks          11.743194\n",
       "Impressions     23.729581\n",
       "Cost ($)        12.384831\n",
       "Leads           30.237695\n",
       "Prospects       61.760581\n",
       "Payment ($)    135.975950\n",
       "dtype: float64"
      ]
     },
     "execution_count": 59,
     "metadata": {},
     "output_type": "execute_result"
    }
   ],
   "source": [
    "df.kurtosis()"
   ]
  },
  {
   "cell_type": "code",
   "execution_count": 60,
   "metadata": {},
   "outputs": [
    {
     "data": {
      "text/plain": [
       "Country  Currency\n",
       "USA      USD         418\n",
       "dtype: int64"
      ]
     },
     "execution_count": 60,
     "metadata": {},
     "output_type": "execute_result"
    }
   ],
   "source": [
    "df[[\"Country\", \"Currency\"]].value_counts()"
   ]
  },
  {
   "cell_type": "markdown",
   "metadata": {},
   "source": [
    "- `df.drop([\"Country\", \"Currency\"], axis=1)`: This code uses the `drop()` method of the Pandas DataFrame \"df\" to remove specific columns from the DataFrame. It specifies the columns to be dropped in the list `[\"Country\", \"Currency\"]`.\n",
    "\n",
    "- `axis=1`: The `axis` parameter is set to 1, indicating that the operation should be applied along columns (i.e., drop columns). \n",
    "\n",
    "- `inplace=True`: The `inplace` parameter is set to True, which means that the operation will modify the original DataFrame \"df\" in place. As a result, the \"Country\" and \"Currency\" columns will be removed from \"df,\" and the changes will be reflected in the DataFrame without the need for assignment to a new variable."
   ]
  },
  {
   "cell_type": "code",
   "execution_count": 61,
   "metadata": {},
   "outputs": [],
   "source": [
    "df.drop([\"Country\", \"Currency\"], axis=1 ,inplace=True)"
   ]
  },
  {
   "cell_type": "markdown",
   "metadata": {},
   "source": [
    "- `sns.histplot(...)`: This code uses Seaborn's `histplot` function to create a histogram plot. A histogram is a graphical representation of the distribution of a dataset. In this case, it's applied to the \"Clicks\" column of the DataFrame \"df.\"\n",
    "\n",
    "- `df[\"Clicks\"]`: This code selects the \"Clicks\" column from the DataFrame \"df.\" It assumes that there is a column named \"Clicks\" in the DataFrame containing numerical data that you want to visualize.\n",
    "\n",
    "The `sns.histplot` function will generate a histogram showing the distribution of click data, helping you understand how the number of clicks is distributed across different values or bins."
   ]
  },
  {
   "cell_type": "code",
   "execution_count": 62,
   "metadata": {},
   "outputs": [
    {
     "data": {
      "text/plain": [
       "<AxesSubplot:xlabel='Clicks', ylabel='Count'>"
      ]
     },
     "execution_count": 62,
     "metadata": {},
     "output_type": "execute_result"
    },
    {
     "data": {
      "image/png": "[encoded data removed]",
      "text/plain": [
       "<Figure size 432x288 with 1 Axes>"
      ]
     },
     "metadata": {
      "needs_background": "light"
     },
     "output_type": "display_data"
    }
   ],
   "source": [
    "sns.histplot(df[\"Clicks\"])"
   ]
  },
  {
   "cell_type": "markdown",
   "metadata": {},
   "source": [
    "- `sns.boxplot(...)`: This code uses Seaborn's `boxplot` function to create a box plot. A box plot is a graphical representation that displays the distribution and variability of a dataset, especially in terms of quartiles and potential outliers. \n",
    "\n",
    "- `df[\"Clicks\"]`: This code selects the \"Clicks\" column from the DataFrame \"df.\" It assumes that there is a column named \"Clicks\" in the DataFrame containing numerical data that you want to visualize.\n",
    "\n",
    "The `sns.boxplot` function will generate a box plot for the \"Clicks\" data, providing information about the median, quartiles, potential outliers, and overall distribution of the data."
   ]
  },
  {
   "cell_type": "code",
   "execution_count": 63,
   "metadata": {},
   "outputs": [
    {
     "name": "stderr",
     "output_type": "stream",
     "text": [
      "d:\\Python\\lib\\site-packages\\seaborn\\_decorators.py:36: FutureWarning: Pass the following variable as a keyword arg: x. From version 0.12, the only valid positional argument will be `data`, and passing other arguments without an explicit keyword will result in an error or misinterpretation.\n",
      "  warnings.warn(\n"
     ]
    },
    {
     "data": {
      "text/plain": [
       "<AxesSubplot:xlabel='Clicks'>"
      ]
     },
     "execution_count": 63,
     "metadata": {},
     "output_type": "execute_result"
    },
    {
     "data": {
      "image/png": "[encoded data removed]",
      "text/plain": [
       "<Figure size 432x288 with 1 Axes>"
      ]
     },
     "metadata": {
      "needs_background": "light"
     },
     "output_type": "display_data"
    }
   ],
   "source": [
    "sns.boxplot(df[\"Clicks\"])"
   ]
  },
  {
   "cell_type": "code",
   "execution_count": 64,
   "metadata": {},
   "outputs": [
    {
     "data": {
      "text/plain": [
       "<AxesSubplot:xlabel='Impressions', ylabel='Count'>"
      ]
     },
     "execution_count": 64,
     "metadata": {},
     "output_type": "execute_result"
    },
    {
     "data": {
      "image/png": "[encoded data removed]",
      "text/plain": [
       "<Figure size 432x288 with 1 Axes>"
      ]
     },
     "metadata": {
      "needs_background": "light"
     },
     "output_type": "display_data"
    }
   ],
   "source": [
    "sns.histplot(df[\"Impressions\"])"
   ]
  },
  {
   "cell_type": "code",
   "execution_count": 65,
   "metadata": {},
   "outputs": [
    {
     "name": "stderr",
     "output_type": "stream",
     "text": [
      "d:\\Python\\lib\\site-packages\\seaborn\\_decorators.py:36: FutureWarning: Pass the following variable as a keyword arg: x. From version 0.12, the only valid positional argument will be `data`, and passing other arguments without an explicit keyword will result in an error or misinterpretation.\n",
      "  warnings.warn(\n"
     ]
    },
    {
     "data": {
      "text/plain": [
       "<AxesSubplot:xlabel='Impressions'>"
      ]
     },
     "execution_count": 65,
     "metadata": {},
     "output_type": "execute_result"
    },
    {
     "data": {
      "image/png": "[encoded data removed]",
      "text/plain": [
       "<Figure size 432x288 with 1 Axes>"
      ]
     },
     "metadata": {
      "needs_background": "light"
     },
     "output_type": "display_data"
    }
   ],
   "source": [
    "sns.boxplot(df[\"Impressions\"])"
   ]
  },
  {
   "cell_type": "code",
   "execution_count": 66,
   "metadata": {},
   "outputs": [
    {
     "data": {
      "text/plain": [
       "<AxesSubplot:xlabel='Cost ($)', ylabel='Count'>"
      ]
     },
     "execution_count": 66,
     "metadata": {},
     "output_type": "execute_result"
    },
    {
     "data": {
      "image/png": "[encoded data removed]",
      "text/plain": [
       "<Figure size 432x288 with 1 Axes>"
      ]
     },
     "metadata": {
      "needs_background": "light"
     },
     "output_type": "display_data"
    }
   ],
   "source": [
    "sns.histplot(df[\"Cost ($)\"])"
   ]
  },
  {
   "cell_type": "code",
   "execution_count": 67,
   "metadata": {},
   "outputs": [
    {
     "name": "stderr",
     "output_type": "stream",
     "text": [
      "d:\\Python\\lib\\site-packages\\seaborn\\_decorators.py:36: FutureWarning: Pass the following variable as a keyword arg: x. From version 0.12, the only valid positional argument will be `data`, and passing other arguments without an explicit keyword will result in an error or misinterpretation.\n",
      "  warnings.warn(\n"
     ]
    },
    {
     "data": {
      "text/plain": [
       "<AxesSubplot:xlabel='Cost ($)'>"
      ]
     },
     "execution_count": 67,
     "metadata": {},
     "output_type": "execute_result"
    },
    {
     "data": {
      "image/png": "[encoded data removed]",
      "text/plain": [
       "<Figure size 432x288 with 1 Axes>"
      ]
     },
     "metadata": {
      "needs_background": "light"
     },
     "output_type": "display_data"
    }
   ],
   "source": [
    "sns.boxplot(df[\"Cost ($)\"])"
   ]
  },
  {
   "cell_type": "code",
   "execution_count": 68,
   "metadata": {},
   "outputs": [
    {
     "data": {
      "text/plain": [
       "<AxesSubplot:xlabel='Cost ($)', ylabel='Count'>"
      ]
     },
     "execution_count": 68,
     "metadata": {},
     "output_type": "execute_result"
    },
    {
     "data": {
      "image/png": "[encoded data removed]",
      "text/plain": [
       "<Figure size 432x288 with 1 Axes>"
      ]
     },
     "metadata": {
      "needs_background": "light"
     },
     "output_type": "display_data"
    }
   ],
   "source": [
    "sns.histplot(df[\"Cost ($)\"])"
   ]
  },
  {
   "cell_type": "markdown",
   "metadata": {},
   "source": [
    "- `sns.kdeplot(...)`: This code uses Seaborn's `kdeplot` function to create a kernel density estimation (KDE) plot. A KDE plot is a way to visualize the probability density function of a continuous random variable.\n",
    "\n",
    "- `df[\"Cost ($)\"]`: This code selects the \"Cost ()\" column from the DataFrame \"df.\" It assumes that there is a column named \"Cost ()\" in the DataFrame containing numerical data that you want to visualize.\n",
    "\n",
    "The `sns.kdeplot` function will generate a KDE plot for the \"Cost ($)\" data, showing the estimated probability distribution of cost values. It provides insights into the shape and density of the cost data's distribution."
   ]
  },
  {
   "cell_type": "code",
   "execution_count": 69,
   "metadata": {},
   "outputs": [
    {
     "data": {
      "text/plain": [
       "<AxesSubplot:xlabel='Cost ($)', ylabel='Density'>"
      ]
     },
     "execution_count": 69,
     "metadata": {},
     "output_type": "execute_result"
    },
    {
     "data": {
      "image/png": "[encoded data removed]",
      "text/plain": [
       "<Figure size 432x288 with 1 Axes>"
      ]
     },
     "metadata": {
      "needs_background": "light"
     },
     "output_type": "display_data"
    }
   ],
   "source": [
    "sns.kdeplot(df[\"Cost ($)\"])"
   ]
  },
  {
   "cell_type": "code",
   "execution_count": 70,
   "metadata": {},
   "outputs": [
    {
     "data": {
      "text/plain": [
       "<AxesSubplot:xlabel='Leads', ylabel='Count'>"
      ]
     },
     "execution_count": 70,
     "metadata": {},
     "output_type": "execute_result"
    },
    {
     "data": {
      "image/png": "[encoded data removed]",
      "text/plain": [
       "<Figure size 432x288 with 1 Axes>"
      ]
     },
     "metadata": {
      "needs_background": "light"
     },
     "output_type": "display_data"
    }
   ],
   "source": [
    "sns.histplot(df[\"Leads\"])"
   ]
  },
  {
   "cell_type": "code",
   "execution_count": 71,
   "metadata": {},
   "outputs": [
    {
     "data": {
      "text/plain": [
       "<AxesSubplot:xlabel='Leads', ylabel='Density'>"
      ]
     },
     "execution_count": 71,
     "metadata": {},
     "output_type": "execute_result"
    },
    {
     "data": {
      "image/png": "[encoded data removed]",
      "text/plain": [
       "<Figure size 432x288 with 1 Axes>"
      ]
     },
     "metadata": {
      "needs_background": "light"
     },
     "output_type": "display_data"
    }
   ],
   "source": [
    "sns.kdeplot(df[\"Leads\"])"
   ]
  },
  {
   "cell_type": "code",
   "execution_count": 72,
   "metadata": {},
   "outputs": [
    {
     "data": {
      "text/plain": [
       "<AxesSubplot:xlabel='Prospects', ylabel='Count'>"
      ]
     },
     "execution_count": 72,
     "metadata": {},
     "output_type": "execute_result"
    },
    {
     "data": {
      "image/png": "[encoded data removed]",
      "text/plain": [
       "<Figure size 432x288 with 1 Axes>"
      ]
     },
     "metadata": {
      "needs_background": "light"
     },
     "output_type": "display_data"
    }
   ],
   "source": [
    "sns.histplot(df[\"Prospects\"])"
   ]
  },
  {
   "cell_type": "code",
   "execution_count": 73,
   "metadata": {},
   "outputs": [
    {
     "data": {
      "text/plain": [
       "<AxesSubplot:xlabel='Prospects', ylabel='Density'>"
      ]
     },
     "execution_count": 73,
     "metadata": {},
     "output_type": "execute_result"
    },
    {
     "data": {
      "image/png": "[encoded data removed]",
      "text/plain": [
       "<Figure size 432x288 with 1 Axes>"
      ]
     },
     "metadata": {
      "needs_background": "light"
     },
     "output_type": "display_data"
    }
   ],
   "source": [
    "sns.kdeplot(df[\"Prospects\"])"
   ]
  },
  {
   "cell_type": "code",
   "execution_count": 74,
   "metadata": {},
   "outputs": [
    {
     "data": {
      "text/plain": [
       "<AxesSubplot:xlabel='Payment ($)', ylabel='Count'>"
      ]
     },
     "execution_count": 74,
     "metadata": {},
     "output_type": "execute_result"
    },
    {
     "data": {
      "image/png": "[encoded data removed]",
      "text/plain": [
       "<Figure size 432x288 with 1 Axes>"
      ]
     },
     "metadata": {
      "needs_background": "light"
     },
     "output_type": "display_data"
    }
   ],
   "source": [
    "sns.histplot(df[\"Payment ($)\"])"
   ]
  },
  {
   "cell_type": "code",
   "execution_count": 75,
   "metadata": {},
   "outputs": [
    {
     "data": {
      "text/plain": [
       "<AxesSubplot:xlabel='Payment ($)', ylabel='Density'>"
      ]
     },
     "execution_count": 75,
     "metadata": {},
     "output_type": "execute_result"
    },
    {
     "data": {
      "image/png": "[encoded data removed]",
      "text/plain": [
       "<Figure size 432x288 with 1 Axes>"
      ]
     },
     "metadata": {
      "needs_background": "light"
     },
     "output_type": "display_data"
    }
   ],
   "source": [
    "sns.kdeplot(df[\"Payment ($)\"])"
   ]
  },
  {
   "cell_type": "code",
   "execution_count": 76,
   "metadata": {},
   "outputs": [
    {
     "data": {
      "image/png": "[encoded data removed]",
      "text/plain": [
       "<Figure size 432x288 with 1 Axes>"
      ]
     },
     "metadata": {
      "needs_background": "light"
     },
     "output_type": "display_data"
    },
    {
     "data": {
      "text/plain": [
       "<Figure size 2880x360 with 0 Axes>"
      ]
     },
     "metadata": {},
     "output_type": "display_data"
    }
   ],
   "source": [
    "sns.histplot(df[\"Campaign\"])\n",
    "plt.figure(figsize=(40, 5))\n",
    "plt.show()"
   ]
  },
  {
   "cell_type": "markdown",
   "metadata": {},
   "source": [
    "- `import scipy.stats as stats`: This code imports the `stats` module from the SciPy library. SciPy is a library for scientific and technical computing in Python. The `stats` module provides various statistical functions and tools.\n",
    "\n",
    "- `import pylab`: This code imports the `pylab` module. Pylab is a module that combines functionality from NumPy, Matplotlib, and SciPy. In this code, it's used for plotting the probability plot.\n",
    "\n",
    "- `stats.probplot(df.Clicks, dist=\"norm\", plot=pylab)`: This code generates a probability plot (also known as a Q-Q plot) for the \"Clicks\" data from the DataFrame \"df.\" A probability plot is used to visually assess whether a dataset follows a normal distribution.\n",
    "\n",
    "  - `df.Clicks`: This code selects the \"Clicks\" column from the DataFrame \"df\" for analysis.\n",
    "\n",
    "  - `dist=\"norm\"`: This parameter specifies that the plot should be compared to a normal distribution. It's used to check if the \"Clicks\" data follows a normal distribution.\n",
    "\n",
    "  - `plot=pylab`: This parameter specifies that the plot should be generated using the `pylab` module.\n",
    "\n",
    "The probability plot visually compares the quantiles of the \"Clicks\" data to the quantiles of a normal distribution. If the data points closely follow a straight line, it suggests that the data is approximately normally distributed. Any deviations from the straight line can indicate departures from normality."
   ]
  },
  {
   "cell_type": "code",
   "execution_count": 77,
   "metadata": {},
   "outputs": [
    {
     "data": {
      "text/plain": [
       "((array([-2.93702766, -2.6502503 , -2.48862734, -2.37383857, -2.28377496,\n",
       "         -2.20913468, -2.14508828, -2.08879364, -2.03843131, -1.99276366,\n",
       "         -1.95090921, -1.91221703, -1.87619232, -1.84244974, -1.81068319,\n",
       "         -1.78064526, -1.75213303, -1.72497793, -1.69903832, -1.674194  ,\n",
       "         -1.65034206, -1.6273937 , -1.60527171, -1.58390852, -1.56324469,\n",
       "         -1.54322758, -1.5238104 , -1.50495131, -1.48661278, -1.468761  ,\n",
       "         -1.4513654 , -1.43439822, -1.41783423, -1.40165035, -1.38582549,\n",
       "         -1.37034025, -1.35517682, -1.34031874, -1.32575079, -1.3114589 ,\n",
       "         -1.29742997, -1.28365184, -1.27011319, -1.25680341, -1.24371263,\n",
       "         -1.23083159, -1.21815159, -1.20566447, -1.19336258, -1.18123868,\n",
       "         -1.16928597, -1.15749802, -1.14586875, -1.13439242, -1.12306358,\n",
       "         -1.11187708, -1.10082801, -1.08991172, -1.07912379, -1.06846   ,\n",
       "         -1.05791635, -1.04748902, -1.03717435, -1.02696887, -1.01686924,\n",
       "         -1.00687229, -0.99697496, -0.98717434, -0.97746763, -0.96785216,\n",
       "         -0.95832535, -0.94888473, -0.93952794, -0.93025269, -0.92105678,\n",
       "         -0.91193811, -0.90289465, -0.89392443, -0.88502557, -0.87619625,\n",
       "         -0.86743471, -0.85873926, -0.85010826, -0.84154013, -0.83303333,\n",
       "         -0.8245864 , -0.8161979 , -0.80786644, -0.79959068, -0.79136933,\n",
       "         -0.78320112, -0.77508484, -0.76701929, -0.75900334, -0.75103586,\n",
       "         -0.74311577, -0.73524203, -0.72741361, -0.71962952, -0.71188878,\n",
       "         -0.70419047, -0.69653367, -0.68891749, -0.68134106, -0.67380354,\n",
       "         -0.66630411, -0.65884197, -0.65141634, -0.64402645, -0.63667157,\n",
       "         -0.62935097, -0.62206394, -0.6148098 , -0.60758786, -0.60039748,\n",
       "         -0.593238  , -0.58610881, -0.57900928, -0.57193881, -0.56489683,\n",
       "         -0.55788274, -0.550896  , -0.54393604, -0.53700234, -0.53009435,\n",
       "         -0.52321157, -0.51635349, -0.50951961, -0.50270944, -0.4959225 ,\n",
       "         -0.48915834, -0.48241648, -0.47569648, -0.46899789, -0.46232028,\n",
       "         -0.45566322, -0.44902629, -0.44240909, -0.4358112 , -0.42923223,\n",
       "         -0.42267178, -0.41612947, -0.40960493, -0.40309778, -0.39660765,\n",
       "         -0.39013419, -0.38367703, -0.37723584, -0.37081025, -0.36439994,\n",
       "         -0.35800457, -0.35162381, -0.34525733, -0.33890481, -0.33256595,\n",
       "         -0.32624041, -0.31992791, -0.31362812, -0.30734076, -0.30106553,\n",
       "         -0.29480213, -0.28855027, -0.28230967, -0.27608005, -0.26986112,\n",
       "         -0.26365261, -0.25745425, -0.25126576, -0.24508688, -0.23891735,\n",
       "         -0.23275689, -0.22660526, -0.22046219, -0.21432743, -0.20820072,\n",
       "         -0.20208182, -0.19597048, -0.18986644, -0.18376947, -0.17767933,\n",
       "         -0.17159577, -0.16551855, -0.15944744, -0.15338221, -0.1473226 ,\n",
       "         -0.14126841, -0.13521938, -0.12917531, -0.12313594, -0.11710107,\n",
       "         -0.11107045, -0.10504387, -0.09902111, -0.09300194, -0.08698613,\n",
       "         -0.08097347, -0.07496373, -0.0689567 , -0.06295216, -0.05694989,\n",
       "         -0.05094967, -0.04495128, -0.03895451, -0.03295914, -0.02696496,\n",
       "         -0.02097174, -0.01497928, -0.00898735, -0.00299575,  0.00299575,\n",
       "          0.00898735,  0.01497928,  0.02097174,  0.02696496,  0.03295914,\n",
       "          0.03895451,  0.04495128,  0.05094967,  0.05694989,  0.06295216,\n",
       "          0.0689567 ,  0.07496373,  0.08097347,  0.08698613,  0.09300194,\n",
       "          0.09902111,  0.10504387,  0.11107045,  0.11710107,  0.12313594,\n",
       "          0.12917531,  0.13521938,  0.14126841,  0.1473226 ,  0.15338221,\n",
       "          0.15944744,  0.16551855,  0.17159577,  0.17767933,  0.18376947,\n",
       "          0.18986644,  0.19597048,  0.20208182,  0.20820072,  0.21432743,\n",
       "          0.22046219,  0.22660526,  0.23275689,  0.23891735,  0.24508688,\n",
       "          0.25126576,  0.25745425,  0.26365261,  0.26986112,  0.27608005,\n",
       "          0.28230967,  0.28855027,  0.29480213,  0.30106553,  0.30734076,\n",
       "          0.31362812,  0.31992791,  0.32624041,  0.33256595,  0.33890481,\n",
       "          0.34525733,  0.35162381,  0.35800457,  0.36439994,  0.37081025,\n",
       "          0.37723584,  0.38367703,  0.39013419,  0.39660765,  0.40309778,\n",
       "          0.40960493,  0.41612947,  0.42267178,  0.42923223,  0.4358112 ,\n",
       "          0.44240909,  0.44902629,  0.45566322,  0.46232028,  0.46899789,\n",
       "          0.47569648,  0.48241648,  0.48915834,  0.4959225 ,  0.50270944,\n",
       "          0.50951961,  0.51635349,  0.52321157,  0.53009435,  0.53700234,\n",
       "          0.54393604,  0.550896  ,  0.55788274,  0.56489683,  0.57193881,\n",
       "          0.57900928,  0.58610881,  0.593238  ,  0.60039748,  0.60758786,\n",
       "          0.6148098 ,  0.62206394,  0.62935097,  0.63667157,  0.64402645,\n",
       "          0.65141634,  0.65884197,  0.66630411,  0.67380354,  0.68134106,\n",
       "          0.68891749,  0.69653367,  0.70419047,  0.71188878,  0.71962952,\n",
       "          0.72741361,  0.73524203,  0.74311577,  0.75103586,  0.75900334,\n",
       "          0.76701929,  0.77508484,  0.78320112,  0.79136933,  0.79959068,\n",
       "          0.80786644,  0.8161979 ,  0.8245864 ,  0.83303333,  0.84154013,\n",
       "          0.85010826,  0.85873926,  0.86743471,  0.87619625,  0.88502557,\n",
       "          0.89392443,  0.90289465,  0.91193811,  0.92105678,  0.93025269,\n",
       "          0.93952794,  0.94888473,  0.95832535,  0.96785216,  0.97746763,\n",
       "          0.98717434,  0.99697496,  1.00687229,  1.01686924,  1.02696887,\n",
       "          1.03717435,  1.04748902,  1.05791635,  1.06846   ,  1.07912379,\n",
       "          1.08991172,  1.10082801,  1.11187708,  1.12306358,  1.13439242,\n",
       "          1.14586875,  1.15749802,  1.16928597,  1.18123868,  1.19336258,\n",
       "          1.20566447,  1.21815159,  1.23083159,  1.24371263,  1.25680341,\n",
       "          1.27011319,  1.28365184,  1.29742997,  1.3114589 ,  1.32575079,\n",
       "          1.34031874,  1.35517682,  1.37034025,  1.38582549,  1.40165035,\n",
       "          1.41783423,  1.43439822,  1.4513654 ,  1.468761  ,  1.48661278,\n",
       "          1.50495131,  1.5238104 ,  1.54322758,  1.56324469,  1.58390852,\n",
       "          1.60527171,  1.6273937 ,  1.65034206,  1.674194  ,  1.69903832,\n",
       "          1.72497793,  1.75213303,  1.78064526,  1.81068319,  1.84244974,\n",
       "          1.87619232,  1.91221703,  1.95090921,  1.99276366,  2.03843131,\n",
       "          2.08879364,  2.14508828,  2.20913468,  2.28377496,  2.37383857,\n",
       "          2.48862734,  2.6502503 ,  2.93702766]),\n",
       "  array([ 0,  0,  0,  0,  0,  0,  0,  0,  0,  0,  0,  0,  0,  0,  0,  0,  0,\n",
       "          0,  0,  0,  0,  0,  0,  0,  0,  0,  0,  0,  0,  0,  0,  0,  0,  0,\n",
       "          0,  0,  0,  0,  0,  0,  0,  0,  0,  0,  0,  0,  0,  0,  0,  0,  0,\n",
       "          0,  0,  0,  0,  0,  0,  0,  0,  0,  0,  0,  0,  0,  0,  0,  0,  0,\n",
       "          0,  0,  0,  0,  0,  0,  0,  0,  0,  0,  0,  0,  0,  0,  0,  0,  0,\n",
       "          0,  0,  0,  0,  0,  0,  0,  0,  0,  0,  0,  0,  0,  0,  0,  0,  0,\n",
       "          0,  0,  0,  0,  0,  0,  0,  0,  0,  0,  0,  0,  0,  0,  0,  0,  0,\n",
       "          0,  0,  0,  0,  0,  0,  0,  0,  0,  0,  0,  0,  0,  0,  0,  0,  0,\n",
       "          0,  0,  0,  0,  0,  0,  0,  0,  0,  0,  0,  0,  0,  0,  0,  0,  0,\n",
       "          0,  0,  0,  0,  0,  0,  0,  0,  0,  0,  0,  0,  0,  0,  0,  0,  0,\n",
       "          0,  0,  0,  0,  0,  0,  0,  0,  0,  0,  0,  0,  0,  0,  0,  0,  0,\n",
       "          0,  0,  0,  0,  0,  0,  0,  0,  0,  0,  0,  0,  0,  0,  0,  0,  0,\n",
       "          0,  0,  0,  0,  0,  0,  0,  0,  0,  0,  0,  0,  0,  0,  0,  0,  0,\n",
       "          0,  0,  0,  0,  0,  0,  0,  0,  0,  0,  0,  0,  0,  0,  0,  0,  0,\n",
       "          0,  0,  0,  0,  0,  0,  0,  0,  0,  0,  0,  0,  0,  0,  0,  0,  0,\n",
       "          0,  0,  0,  0,  0,  0,  0,  0,  1,  1,  1,  1,  1,  1,  1,  1,  1,\n",
       "          1,  1,  1,  1,  1,  1,  1,  1,  1,  1,  1,  1,  1,  1,  1,  1,  1,\n",
       "          1,  1,  1,  1,  1,  1,  1,  1,  1,  1,  1,  1,  1,  1,  1,  1,  1,\n",
       "          1,  1,  1,  1,  1,  1,  1,  1,  1,  1,  1,  1,  1,  1,  1,  1,  1,\n",
       "          1,  1,  1,  1,  1,  1,  1,  1,  1,  1,  1,  1,  1,  1,  1,  1,  1,\n",
       "          1,  2,  2,  2,  2,  2,  2,  2,  2,  2,  2,  2,  2,  2,  2,  2,  2,\n",
       "          2,  2,  2,  2,  2,  2,  2,  2,  2,  2,  2,  2,  2,  2,  2,  2,  2,\n",
       "          3,  3,  3,  3,  3,  3,  3,  3,  3,  3,  3,  3,  4,  4,  4,  4,  4,\n",
       "          4,  4,  4,  4,  4,  4,  5,  5,  5,  5,  5,  5,  6,  7,  7,  8,  8,\n",
       "          8,  8,  8,  9, 10, 10, 10, 11, 11, 12], dtype=int64)),\n",
       " (1.4039812003838965, 0.9258373205741627, 0.7351072361411128))"
      ]
     },
     "execution_count": 77,
     "metadata": {},
     "output_type": "execute_result"
    },
    {
     "data": {
      "image/png": "[encoded data removed]",
      "text/plain": [
       "<Figure size 432x288 with 1 Axes>"
      ]
     },
     "metadata": {
      "needs_background": "light"
     },
     "output_type": "display_data"
    }
   ],
   "source": [
    "import scipy.stats as stats\n",
    "import pylab\n",
    "\n",
    "# Checking Whether data is normally distributed\n",
    "stats.probplot(df.Clicks, dist=\"norm\", plot=pylab)"
   ]
  },
  {
   "cell_type": "markdown",
   "metadata": {},
   "source": [
    "- `pd.get_dummies(df)`: creates dummy variable for the columns which contains categorical values."
   ]
  },
  {
   "cell_type": "code",
   "execution_count": 78,
   "metadata": {},
   "outputs": [],
   "source": [
    "df_dummy = pd.get_dummies(df)"
   ]
  },
  {
   "cell_type": "code",
   "execution_count": 79,
   "metadata": {},
   "outputs": [
    {
     "data": {
      "text/plain": [
       "Index(['Week', 'Clicks', 'Impressions', 'Cost ($)', 'Leads', 'Prospects',\n",
       "       'Payment ($)', 'Campaign_EK_Generic_Quad-Tok_Pilates',\n",
       "       'Campaign_EK_Generic_Quad-Tok_Yoga',\n",
       "       'Campaign_EK_Generic_Quad-Tok_Yoga_Singapore',\n",
       "       'Campaign_EK_Generic_Swimming', 'Campaign_EK_Generic_Swimming_Canada',\n",
       "       'Campaign_EK_Generic_Swimming_Singapore',\n",
       "       'Campaign_EK_Generic_Swimming_UK',\n",
       "       'Campaign_EK_Generic_Tri-Tok_Pilates',\n",
       "       'Campaign_EK_Generic_Tri-Tok_Reservation',\n",
       "       'Campaign_EK_Generic_Tri-Tok_Reservation_Canada',\n",
       "       'Campaign_EK_Generic_Tri-Tok_Reservation_Singapore',\n",
       "       'Campaign_EK_Generic_Tri-Tok_Reservation_UAE',\n",
       "       'Campaign_EK_Generic_Tri-Tok_Reservation_UK',\n",
       "       'Campaign_EK_Generic_Tri-Tok_Yoga',\n",
       "       'Campaign_EK_Generic_Tri-Tok_Yoga_Singapore',\n",
       "       'Ad group_Pilates_Booking_System_Exact',\n",
       "       'Ad group_Pilates_Booking_System_Phrase',\n",
       "       'Ad group_Pilates_Management_Software_Exact',\n",
       "       'Ad group_Pilates_Studio_Booking_Software_Broad',\n",
       "       'Ad group_Pilates_Studio_Management_Software_Exact',\n",
       "       'Ad group_Pilates_Studio_Software_Exact',\n",
       "       'Ad group_Pilates_Studio_Software_Manager_Exact',\n",
       "       'Ad group_Pilates_Studio_Software_Phrase',\n",
       "       'Ad group_Pool_Booking_App_Exact',\n",
       "       'Ad group_Pool_Reservation_Software_Broad',\n",
       "       'Ad group_Pool_Reservation_Software_Exact',\n",
       "       'Ad group_Pool_Reservation_Software_Open_Broad',\n",
       "       'Ad group_Pool_Reservation_System_Exact',\n",
       "       'Ad group_Pool_Scheduling_Software_Phrase',\n",
       "       'Ad group_Reservation_Management_System_Exact',\n",
       "       'Ad group_Reservation_Management_System_Phrase',\n",
       "       'Ad group_Swimming_Pool_Booking_System_Exact',\n",
       "       'Ad group_Swimming_Pool_Reservation_System_Exact',\n",
       "       'Ad group_Yoga_Studio_App_Broad', 'Ad group_Yoga_Studio_App_Exact',\n",
       "       'Ad group_Yoga_Studio_App_Phrase',\n",
       "       'Ad group_Yoga_Studio_Booking_Software_Broad',\n",
       "       'Ad group_Yoga_Studio_Booking_Software_Exact',\n",
       "       'Ad group_Yoga_Studio_Generic_Software_Phrase',\n",
       "       'Ad group_Yoga_Studio_Software_Broad',\n",
       "       'Ad group_Yoga_Studio_Software_Exact',\n",
       "       'Ad group_Yoga_Studio_Software_Phrase', 'Keyword type_Broad',\n",
       "       'Keyword type_Exact', 'Keyword type_Phrase',\n",
       "       'Search Keyword_=+pool +reservation software',\n",
       "       'Search Keyword_booking management software',\n",
       "       'Search Keyword_pilates booking system',\n",
       "       'Search Keyword_pilates management software',\n",
       "       'Search Keyword_pilates studio booking software',\n",
       "       'Search Keyword_pilates studio management software',\n",
       "       'Search Keyword_pilates studio software',\n",
       "       'Search Keyword_pilates studio software manager',\n",
       "       'Search Keyword_pool booking app',\n",
       "       'Search Keyword_pool reservation software',\n",
       "       'Search Keyword_pool reservation system',\n",
       "       'Search Keyword_pool scheduling software',\n",
       "       'Search Keyword_reservation management system',\n",
       "       'Search Keyword_swimming pool booking system',\n",
       "       'Search Keyword_swimming pool reservation system',\n",
       "       'Search Keyword_yoga studio app',\n",
       "       'Search Keyword_yoga studio booking software',\n",
       "       'Search Keyword_yoga studio management software',\n",
       "       'Search Keyword_yoga studio scheduling software',\n",
       "       'Search Keyword_yoga studio software',\n",
       "       'Payment Date_2021-02-03 00:00:00', 'Payment Date_0',\n",
       "       'Payment Date_2021-03-13 00:00:00', 'Payment Date_2021-02-15 00:00:00',\n",
       "       'Payment Date_2021-03-01 00:00:00', 'Payment Date_2021-04-29 00:00:00',\n",
       "       'Payment Date_2021-04-03 00:00:00', 'Payment Date_2021-05-01 00:00:00',\n",
       "       'Payment Date_2021-05-04 00:00:00'],\n",
       "      dtype='object')"
      ]
     },
     "execution_count": 79,
     "metadata": {},
     "output_type": "execute_result"
    }
   ],
   "source": [
    "df_dummy.columns"
   ]
  },
  {
   "cell_type": "code",
   "execution_count": 80,
   "metadata": {},
   "outputs": [
    {
     "data": {
      "text/html": [
       "<div>\n",
       "<style scoped>\n",
       "    .dataframe tbody tr th:only-of-type {\n",
       "        vertical-align: middle;\n",
       "    }\n",
       "\n",
       "    .dataframe tbody tr th {\n",
       "        vertical-align: top;\n",
       "    }\n",
       "\n",
       "    .dataframe thead th {\n",
       "        text-align: right;\n",
       "    }\n",
       "</style>\n",
       "<table border=\"1\" class=\"dataframe\">\n",
       "  <thead>\n",
       "    <tr style=\"text-align: right;\">\n",
       "      <th></th>\n",
       "      <th>Clicks</th>\n",
       "      <th>Impressions</th>\n",
       "      <th>Cost ($)</th>\n",
       "      <th>Leads</th>\n",
       "      <th>Prospects</th>\n",
       "      <th>Payment ($)</th>\n",
       "    </tr>\n",
       "  </thead>\n",
       "  <tbody>\n",
       "    <tr>\n",
       "      <th>count</th>\n",
       "      <td>418.000000</td>\n",
       "      <td>418.000000</td>\n",
       "      <td>418.000000</td>\n",
       "      <td>418.000000</td>\n",
       "      <td>418.000000</td>\n",
       "      <td>418.000000</td>\n",
       "    </tr>\n",
       "    <tr>\n",
       "      <th>mean</th>\n",
       "      <td>0.925837</td>\n",
       "      <td>16.662679</td>\n",
       "      <td>6.671483</td>\n",
       "      <td>0.028708</td>\n",
       "      <td>0.050239</td>\n",
       "      <td>7.033493</td>\n",
       "    </tr>\n",
       "    <tr>\n",
       "      <th>std</th>\n",
       "      <td>1.900840</td>\n",
       "      <td>46.743636</td>\n",
       "      <td>14.253019</td>\n",
       "      <td>0.167185</td>\n",
       "      <td>0.285312</td>\n",
       "      <td>82.823691</td>\n",
       "    </tr>\n",
       "    <tr>\n",
       "      <th>min</th>\n",
       "      <td>0.000000</td>\n",
       "      <td>0.000000</td>\n",
       "      <td>0.000000</td>\n",
       "      <td>0.000000</td>\n",
       "      <td>0.000000</td>\n",
       "      <td>0.000000</td>\n",
       "    </tr>\n",
       "    <tr>\n",
       "      <th>25%</th>\n",
       "      <td>0.000000</td>\n",
       "      <td>1.000000</td>\n",
       "      <td>0.000000</td>\n",
       "      <td>0.000000</td>\n",
       "      <td>0.000000</td>\n",
       "      <td>0.000000</td>\n",
       "    </tr>\n",
       "    <tr>\n",
       "      <th>50%</th>\n",
       "      <td>0.000000</td>\n",
       "      <td>3.000000</td>\n",
       "      <td>0.000000</td>\n",
       "      <td>0.000000</td>\n",
       "      <td>0.000000</td>\n",
       "      <td>0.000000</td>\n",
       "    </tr>\n",
       "    <tr>\n",
       "      <th>75%</th>\n",
       "      <td>1.000000</td>\n",
       "      <td>12.000000</td>\n",
       "      <td>6.800000</td>\n",
       "      <td>0.000000</td>\n",
       "      <td>0.000000</td>\n",
       "      <td>0.000000</td>\n",
       "    </tr>\n",
       "    <tr>\n",
       "      <th>max</th>\n",
       "      <td>12.000000</td>\n",
       "      <td>357.000000</td>\n",
       "      <td>92.090000</td>\n",
       "      <td>1.000000</td>\n",
       "      <td>3.000000</td>\n",
       "      <td>980.000000</td>\n",
       "    </tr>\n",
       "  </tbody>\n",
       "</table>\n",
       "</div>"
      ],
      "text/plain": [
       "           Clicks  Impressions    Cost ($)       Leads   Prospects  \\\n",
       "count  418.000000   418.000000  418.000000  418.000000  418.000000   \n",
       "mean     0.925837    16.662679    6.671483    0.028708    0.050239   \n",
       "std      1.900840    46.743636   14.253019    0.167185    0.285312   \n",
       "min      0.000000     0.000000    0.000000    0.000000    0.000000   \n",
       "25%      0.000000     1.000000    0.000000    0.000000    0.000000   \n",
       "50%      0.000000     3.000000    0.000000    0.000000    0.000000   \n",
       "75%      1.000000    12.000000    6.800000    0.000000    0.000000   \n",
       "max     12.000000   357.000000   92.090000    1.000000    3.000000   \n",
       "\n",
       "       Payment ($)  \n",
       "count   418.000000  \n",
       "mean      7.033493  \n",
       "std      82.823691  \n",
       "min       0.000000  \n",
       "25%       0.000000  \n",
       "50%       0.000000  \n",
       "75%       0.000000  \n",
       "max     980.000000  "
      ]
     },
     "execution_count": 80,
     "metadata": {},
     "output_type": "execute_result"
    }
   ],
   "source": [
    "df.describe()"
   ]
  },
  {
   "cell_type": "markdown",
   "metadata": {},
   "source": [
    "- `stats.norm.cdf(...)`: This code uses the `cdf` method from the `stats.norm` object, which represents a normal (Gaussian) distribution in the SciPy `stats` module. The `cdf` method calculates the cumulative distribution function (CDF) of the normal distribution.\n",
    "\n",
    "- `1.5`: This is the value at which you want to calculate the CDF. In this case, it's 1.5.\n",
    "\n",
    "- `0.92`: This is the mean (average) of the normal distribution.\n",
    "\n",
    "- `1.90`: This is the standard deviation of the normal distribution.\n",
    "\n",
    "The code calculates the CDF of the normal distribution at the value 1.5, given a mean of 0.92 and a standard deviation of 1.90. The result represents the probability that a random variable following this normal distribution is less than or equal to 1.5. It gives you insight into the likelihood of observing a value less than or equal to 1.5 in this specific normal distribution."
   ]
  },
  {
   "cell_type": "code",
   "execution_count": 82,
   "metadata": {},
   "outputs": [
    {
     "data": {
      "text/plain": [
       "0.6199171333443395"
      ]
     },
     "execution_count": 82,
     "metadata": {},
     "output_type": "execute_result"
    }
   ],
   "source": [
    "stats.norm.cdf(1.5, 0.92, 1.90)"
   ]
  },
  {
   "cell_type": "code",
   "execution_count": 83,
   "metadata": {},
   "outputs": [
    {
     "data": {
      "text/plain": [
       "1.450706165450163"
      ]
     },
     "execution_count": 83,
     "metadata": {},
     "output_type": "execute_result"
    }
   ],
   "source": [
    "stats.norm.ppf(0.61, 0.92, 1.90) "
   ]
  },
  {
   "cell_type": "markdown",
   "metadata": {},
   "source": [
    "- `x = df_dummy.loc[:, df_dummy.columns != \"Payment ($)\"]`: This line of code creates a new DataFrame `x` by selecting all columns from the DataFrame `df_dummy` except for the \"Payment ($)\" column. It uses the `.loc[]` method to index the DataFrame, specifying a condition to exclude the \"Payment ($)\" column. This operation is useful for separating the predictor variables (features) from the target variable.\n",
    "\n",
    "- `y = df_dummy[\"Payment ($)\"]`: This line of code creates a Series `y` by selecting only the \"Payment ($)\" column from the DataFrame `df_dummy`. This is typically done when you want to isolate the target variable that you're trying to predict or model. In many machine learning and statistical analyses, `y` represents the dependent variable, and `x` represents the independent variables used for prediction or modeling."
   ]
  },
  {
   "cell_type": "code",
   "execution_count": 84,
   "metadata": {},
   "outputs": [],
   "source": [
    "x = df_dummy.loc[:, df_dummy.columns != \"Payment ($)\"]\n",
    "y = df_dummy[\"Payment ($)\"]"
   ]
  },
  {
   "cell_type": "markdown",
   "metadata": {},
   "source": [
    "- `plt.scatter(...)`: This code uses Matplotlib's `scatter` function to create a scatter plot. A scatter plot is used to visualize the relationship between two variables by displaying individual data points as dots on a graph.\n",
    "\n",
    "- `x=df.Clicks`: This specifies the values to be plotted on the x-axis of the scatter plot. In this case, it's using the \"Clicks\" column from the DataFrame `df` as the x-values.\n",
    "\n",
    "- `y=df.Impressions`: This specifies the values to be plotted on the y-axis of the scatter plot. It's using the \"Impressions\" column from the DataFrame `df` as the y-values.\n",
    "\n",
    "The scatter plot will show how the \"Clicks\" and \"Impressions\" variables are related. Each data point will be represented as a dot on the graph, with \"Clicks\" values on the x-axis and \"Impressions\" values on the y-axis, helping to visualize any patterns or correlations between these two variables."
   ]
  },
  {
   "cell_type": "code",
   "execution_count": 85,
   "metadata": {},
   "outputs": [
    {
     "data": {
      "text/plain": [
       "<matplotlib.collections.PathCollection at 0x263a7ee0a00>"
      ]
     },
     "execution_count": 85,
     "metadata": {},
     "output_type": "execute_result"
    },
    {
     "data": {
      "image/png": "[encoded data removed]",
      "text/plain": [
       "<Figure size 432x288 with 1 Axes>"
      ]
     },
     "metadata": {
      "needs_background": "light"
     },
     "output_type": "display_data"
    }
   ],
   "source": [
    "plt.scatter(x = df.Clicks, y = df.Impressions)"
   ]
  },
  {
   "cell_type": "markdown",
   "metadata": {},
   "source": [
    "- `# correlation`: This line is a comment in Python. It's used to add explanatory comments within the code to describe what the following code is doing. In this case, it's indicating that the code below is intended to calculate the correlation between two variables.\n",
    "\n",
    "- `np.corrcoef(df.Clicks, df.Impressions)`: This code uses NumPy's `corrcoef` function to calculate the correlation coefficient between the \"Clicks\" and \"Impressions\" columns in the DataFrame `df`. The `corrcoef` function returns a correlation matrix, and in this specific case, it calculates the correlation between these two columns.\n",
    "\n",
    "The correlation coefficient quantifies the strength and direction of the linear relationship between two variables. If the coefficient is close to 1, it indicates a strong positive correlation, meaning that as one variable increases, the other tends to increase as well. If it's close to -1, it indicates a strong negative correlation, meaning that as one variable increases, the other tends to decrease. If it's close to 0, it suggests a weak or no linear correlation between the variables."
   ]
  },
  {
   "cell_type": "code",
   "execution_count": 86,
   "metadata": {},
   "outputs": [
    {
     "data": {
      "text/plain": [
       "array([[1.        , 0.71189153],\n",
       "       [0.71189153, 1.        ]])"
      ]
     },
     "execution_count": 86,
     "metadata": {},
     "output_type": "execute_result"
    }
   ],
   "source": [
    "# correlation\n",
    "np.corrcoef(df.Clicks, df.Impressions) "
   ]
  },
  {
   "cell_type": "code",
   "execution_count": 87,
   "metadata": {},
   "outputs": [
    {
     "data": {
      "text/html": [
       "<div>\n",
       "<style scoped>\n",
       "    .dataframe tbody tr th:only-of-type {\n",
       "        vertical-align: middle;\n",
       "    }\n",
       "\n",
       "    .dataframe tbody tr th {\n",
       "        vertical-align: top;\n",
       "    }\n",
       "\n",
       "    .dataframe thead th {\n",
       "        text-align: right;\n",
       "    }\n",
       "</style>\n",
       "<table border=\"1\" class=\"dataframe\">\n",
       "  <thead>\n",
       "    <tr style=\"text-align: right;\">\n",
       "      <th></th>\n",
       "      <th>Clicks</th>\n",
       "      <th>Impressions</th>\n",
       "      <th>Cost ($)</th>\n",
       "      <th>Leads</th>\n",
       "      <th>Prospects</th>\n",
       "      <th>Payment ($)</th>\n",
       "    </tr>\n",
       "  </thead>\n",
       "  <tbody>\n",
       "    <tr>\n",
       "      <th>Clicks</th>\n",
       "      <td>1.000000</td>\n",
       "      <td>0.711892</td>\n",
       "      <td>0.857770</td>\n",
       "      <td>0.225552</td>\n",
       "      <td>0.457910</td>\n",
       "      <td>0.122742</td>\n",
       "    </tr>\n",
       "    <tr>\n",
       "      <th>Impressions</th>\n",
       "      <td>0.711892</td>\n",
       "      <td>1.000000</td>\n",
       "      <td>0.789016</td>\n",
       "      <td>0.138717</td>\n",
       "      <td>0.256429</td>\n",
       "      <td>0.141446</td>\n",
       "    </tr>\n",
       "    <tr>\n",
       "      <th>Cost ($)</th>\n",
       "      <td>0.857770</td>\n",
       "      <td>0.789016</td>\n",
       "      <td>1.000000</td>\n",
       "      <td>0.288258</td>\n",
       "      <td>0.362452</td>\n",
       "      <td>0.144583</td>\n",
       "    </tr>\n",
       "    <tr>\n",
       "      <th>Leads</th>\n",
       "      <td>0.225552</td>\n",
       "      <td>0.138717</td>\n",
       "      <td>0.288258</td>\n",
       "      <td>1.000000</td>\n",
       "      <td>0.019965</td>\n",
       "      <td>-0.014617</td>\n",
       "    </tr>\n",
       "    <tr>\n",
       "      <th>Prospects</th>\n",
       "      <td>0.457910</td>\n",
       "      <td>0.256429</td>\n",
       "      <td>0.362452</td>\n",
       "      <td>0.019965</td>\n",
       "      <td>1.000000</td>\n",
       "      <td>0.283368</td>\n",
       "    </tr>\n",
       "    <tr>\n",
       "      <th>Payment ($)</th>\n",
       "      <td>0.122742</td>\n",
       "      <td>0.141446</td>\n",
       "      <td>0.144583</td>\n",
       "      <td>-0.014617</td>\n",
       "      <td>0.283368</td>\n",
       "      <td>1.000000</td>\n",
       "    </tr>\n",
       "  </tbody>\n",
       "</table>\n",
       "</div>"
      ],
      "text/plain": [
       "               Clicks  Impressions  Cost ($)     Leads  Prospects  Payment ($)\n",
       "Clicks       1.000000     0.711892  0.857770  0.225552   0.457910     0.122742\n",
       "Impressions  0.711892     1.000000  0.789016  0.138717   0.256429     0.141446\n",
       "Cost ($)     0.857770     0.789016  1.000000  0.288258   0.362452     0.144583\n",
       "Leads        0.225552     0.138717  0.288258  1.000000   0.019965    -0.014617\n",
       "Prospects    0.457910     0.256429  0.362452  0.019965   1.000000     0.283368\n",
       "Payment ($)  0.122742     0.141446  0.144583 -0.014617   0.283368     1.000000"
      ]
     },
     "execution_count": 87,
     "metadata": {},
     "output_type": "execute_result"
    }
   ],
   "source": [
    "df.corr()"
   ]
  },
  {
   "cell_type": "code",
   "execution_count": 89,
   "metadata": {},
   "outputs": [],
   "source": [
    "df.rename(columns = {'Cost ($)' : 'Cost_in_Dollar'}, inplace=True)"
   ]
  },
  {
   "cell_type": "markdown",
   "metadata": {},
   "source": [
    "- `import statsmodels.formula.api as smf`: This code imports the `statsmodels` library, specifically the `formula.api` module, and assigns it the alias \"smf.\" Statsmodels is a library for statistical modeling and hypothesis testing.\n",
    "\n",
    "- `# Simple Linear Regression`: This is a comment indicating that the following code performs simple linear regression analysis.\n",
    "\n",
    "- `model = smf.ols('Cost_in_Dollar ~ Impressions', data=df).fit()`: This line of code creates a simple linear regression model using the `ols` (ordinary least squares) function from the `statsmodels` library. It specifies the regression formula `'Cost_in_Dollar ~ Impressions'`, indicating that \"Cost_in_Dollar\" is the dependent variable, and \"Impressions\" is the independent variable. The model is fitted (trained) on the data in the DataFrame `df`.\n",
    "\n",
    "- `model.summary()`: This code generates a summary report for the linear regression model fitted in the previous step. The summary includes statistics such as coefficients, standard errors, p-values, R-squared, and more, providing information about the quality and significance of the regression model. It's a valuable tool for analyzing the relationship between variables in the context of linear regression."
   ]
  },
  {
   "cell_type": "code",
   "execution_count": 90,
   "metadata": {},
   "outputs": [
    {
     "data": {
      "text/html": [
       "<table class=\"simpletable\">\n",
       "<caption>OLS Regression Results</caption>\n",
       "<tr>\n",
       "  <th>Dep. Variable:</th>     <td>Cost_in_Dollar</td>  <th>  R-squared:         </th> <td>   0.623</td>\n",
       "</tr>\n",
       "<tr>\n",
       "  <th>Model:</th>                   <td>OLS</td>       <th>  Adj. R-squared:    </th> <td>   0.622</td>\n",
       "</tr>\n",
       "<tr>\n",
       "  <th>Method:</th>             <td>Least Squares</td>  <th>  F-statistic:       </th> <td>   686.1</td>\n",
       "</tr>\n",
       "<tr>\n",
       "  <th>Date:</th>             <td>Wed, 06 Sep 2023</td> <th>  Prob (F-statistic):</th> <td>4.81e-90</td>\n",
       "</tr>\n",
       "<tr>\n",
       "  <th>Time:</th>                 <td>07:41:56</td>     <th>  Log-Likelihood:    </th> <td> -1499.6</td>\n",
       "</tr>\n",
       "<tr>\n",
       "  <th>No. Observations:</th>      <td>   418</td>      <th>  AIC:               </th> <td>   3003.</td>\n",
       "</tr>\n",
       "<tr>\n",
       "  <th>Df Residuals:</th>          <td>   416</td>      <th>  BIC:               </th> <td>   3011.</td>\n",
       "</tr>\n",
       "<tr>\n",
       "  <th>Df Model:</th>              <td>     1</td>      <th>                     </th>     <td> </td>   \n",
       "</tr>\n",
       "<tr>\n",
       "  <th>Covariance Type:</th>      <td>nonrobust</td>    <th>                     </th>     <td> </td>   \n",
       "</tr>\n",
       "</table>\n",
       "<table class=\"simpletable\">\n",
       "<tr>\n",
       "       <td></td>          <th>coef</th>     <th>std err</th>      <th>t</th>      <th>P>|t|</th>  <th>[0.025</th>    <th>0.975]</th>  \n",
       "</tr>\n",
       "<tr>\n",
       "  <th>Intercept</th>   <td>    2.6627</td> <td>    0.455</td> <td>    5.848</td> <td> 0.000</td> <td>    1.768</td> <td>    3.558</td>\n",
       "</tr>\n",
       "<tr>\n",
       "  <th>Impressions</th> <td>    0.2406</td> <td>    0.009</td> <td>   26.194</td> <td> 0.000</td> <td>    0.223</td> <td>    0.259</td>\n",
       "</tr>\n",
       "</table>\n",
       "<table class=\"simpletable\">\n",
       "<tr>\n",
       "  <th>Omnibus:</th>       <td>203.658</td> <th>  Durbin-Watson:     </th> <td>   1.512</td> \n",
       "</tr>\n",
       "<tr>\n",
       "  <th>Prob(Omnibus):</th> <td> 0.000</td>  <th>  Jarque-Bera (JB):  </th> <td>1173.319</td> \n",
       "</tr>\n",
       "<tr>\n",
       "  <th>Skew:</th>          <td> 2.056</td>  <th>  Prob(JB):          </th> <td>1.65e-255</td>\n",
       "</tr>\n",
       "<tr>\n",
       "  <th>Kurtosis:</th>      <td>10.103</td>  <th>  Cond. No.          </th> <td>    52.6</td> \n",
       "</tr>\n",
       "</table><br/><br/>Notes:<br/>[1] Standard Errors assume that the covariance matrix of the errors is correctly specified."
      ],
      "text/plain": [
       "<class 'statsmodels.iolib.summary.Summary'>\n",
       "\"\"\"\n",
       "                            OLS Regression Results                            \n",
       "==============================================================================\n",
       "Dep. Variable:         Cost_in_Dollar   R-squared:                       0.623\n",
       "Model:                            OLS   Adj. R-squared:                  0.622\n",
       "Method:                 Least Squares   F-statistic:                     686.1\n",
       "Date:                Wed, 06 Sep 2023   Prob (F-statistic):           4.81e-90\n",
       "Time:                        07:41:56   Log-Likelihood:                -1499.6\n",
       "No. Observations:                 418   AIC:                             3003.\n",
       "Df Residuals:                     416   BIC:                             3011.\n",
       "Df Model:                           1                                         \n",
       "Covariance Type:            nonrobust                                         \n",
       "===============================================================================\n",
       "                  coef    std err          t      P>|t|      [0.025      0.975]\n",
       "-------------------------------------------------------------------------------\n",
       "Intercept       2.6627      0.455      5.848      0.000       1.768       3.558\n",
       "Impressions     0.2406      0.009     26.194      0.000       0.223       0.259\n",
       "==============================================================================\n",
       "Omnibus:                      203.658   Durbin-Watson:                   1.512\n",
       "Prob(Omnibus):                  0.000   Jarque-Bera (JB):             1173.319\n",
       "Skew:                           2.056   Prob(JB):                    1.65e-255\n",
       "Kurtosis:                      10.103   Cond. No.                         52.6\n",
       "==============================================================================\n",
       "\n",
       "Notes:\n",
       "[1] Standard Errors assume that the covariance matrix of the errors is correctly specified.\n",
       "\"\"\""
      ]
     },
     "execution_count": 90,
     "metadata": {},
     "output_type": "execute_result"
    }
   ],
   "source": [
    "import statsmodels.formula.api as smf\n",
    "\n",
    "# Simple Linear Regression\n",
    "model = smf.ols('Cost_in_Dollar ~ Impressions', data = df).fit()\n",
    "model.summary()"
   ]
  },
  {
   "cell_type": "markdown",
   "metadata": {},
   "source": [
    "- `pred1`: This line of code creates a variable named `pred1` to store the predicted values generated by the linear regression model.\n",
    "\n",
    "- `model.predict(...)`: This code calls the `predict` method on the previously defined linear regression model (`model`). The `predict` method is used to make predictions based on the model. In this case, it's used to predict the values of the dependent variable (in this case, \"Cost_in_Dollar\") based on the values of the independent variable \"Impressions.\"\n",
    "\n",
    "- `pd.DataFrame(df['Impressions'])`: This part of the code creates a new DataFrame containing the \"Impressions\" column from the original DataFrame `df`. It's necessary to pass the independent variable values as a DataFrame to the `predict` method.\n",
    "\n",
    "So, `pred1` will contain the predicted values for \"Cost_in_Dollar\" based on the linear regression model's predictions using the \"Impressions\" variable. These predicted values can be used for various purposes, such as evaluating the model's performance or making predictions for new data."
   ]
  },
  {
   "cell_type": "code",
   "execution_count": 94,
   "metadata": {},
   "outputs": [],
   "source": [
    "pred1 = model.predict(pd.DataFrame(df['Impressions']))"
   ]
  },
  {
   "cell_type": "markdown",
   "metadata": {},
   "source": [
    "- `# Regression Line`: This is a comment indicating that the following code is related to plotting a regression line.\n",
    "\n",
    "- `plt.scatter(df.Impressions, df.Cost_in_Dollar)`: This code creates a scatter plot using Matplotlib's `scatter` function. It plots the \"Impressions\" column from the DataFrame `df` on the x-axis and the \"Cost_in_Dollar\" column on the y-axis, creating a scatter plot of observed data points.\n",
    "\n",
    "- `plt.plot(df.Impressions, pred1, \"r\")`: This line of code adds a regression line to the scatter plot. It uses Matplotlib's `plot` function to plot the \"Impressions\" values against the predicted values `pred1`. The `\"r\"` argument specifies that the line should be red.\n",
    "\n",
    "- `plt.legend(['Predicted line', 'Observed data'])`: This code adds a legend to the plot, labeling the red line as \"Predicted line\" and the scatter points as \"Observed data.\"\n",
    "\n",
    "- `plt.show()`: This command displays the plot with the scatter points and the regression line. It is necessary to visualize the relationship between the observed data points and the regression line."
   ]
  },
  {
   "cell_type": "code",
   "execution_count": 95,
   "metadata": {},
   "outputs": [
    {
     "data": {
      "image/png": "[encoded data removed]",
      "text/plain": [
       "<Figure size 432x288 with 1 Axes>"
      ]
     },
     "metadata": {
      "needs_background": "light"
     },
     "output_type": "display_data"
    }
   ],
   "source": [
    "# Regression Line\n",
    "plt.scatter(df.Impressions, df.Cost_in_Dollar)\n",
    "plt.plot(df.Impressions, pred1, \"r\")\n",
    "plt.legend(['Predicted line', 'Observed data'])\n",
    "plt.show()"
   ]
  }
 ],
 "metadata": {
  "kernelspec": {
   "display_name": "Python 3 (ipykernel)",
   "language": "python",
   "name": "python3"
  },
  "language_info": {
   "codemirror_mode": {
    "name": "ipython",
    "version": 3
   },
   "file_extension": ".py",
   "mimetype": "text/x-python",
   "name": "python",
   "nbconvert_exporter": "python",
   "pygments_lexer": "ipython3",
   "version": "3.9.7"
  }
 },
 "nbformat": 4,
 "nbformat_minor": 2
}
